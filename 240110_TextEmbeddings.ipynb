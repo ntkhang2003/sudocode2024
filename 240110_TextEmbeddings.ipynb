{
 "cells": [
  {
   "cell_type": "markdown",
   "id": "b56a6c8b",
   "metadata": {},
   "source": [
    "# Download data"
   ]
  },
  {
   "cell_type": "code",
   "execution_count": 1,
   "id": "24d33425",
   "metadata": {
    "execution": {
     "iopub.execute_input": "2024-09-20T18:26:39.653958Z",
     "iopub.status.busy": "2024-09-20T18:26:39.653062Z",
     "iopub.status.idle": "2024-09-20T18:27:13.184365Z",
     "shell.execute_reply": "2024-09-20T18:27:13.183025Z"
    },
    "id": "trtdSg66Giwo",
    "outputId": "b3cdf135-ff1c-46a5-985a-241cf686dbe3",
    "papermill": {
     "duration": 33.543094,
     "end_time": "2024-09-20T18:27:13.187379",
     "exception": false,
     "start_time": "2024-09-20T18:26:39.644285",
     "status": "completed"
    },
    "tags": []
   },
   "outputs": [
    {
     "name": "stdout",
     "output_type": "stream",
     "text": [
      "Cloning into 'viwik18'...\r\n",
      "remote: Enumerating objects: 161, done.\u001b[K\r\n",
      "remote: Total 161 (delta 0), reused 0 (delta 0), pack-reused 161 (from 1)\u001b[K\r\n",
      "Receiving objects: 100% (161/161), 453.04 MiB | 19.78 MiB/s, done.\r\n",
      "Resolving deltas: 100% (29/29), done.\r\n",
      "Updating files: 100% (13/13), done.\r\n"
     ]
    }
   ],
   "source": [
    "!git clone https://github.com/NTT123/viwik18.git"
   ]
  },
  {
   "cell_type": "code",
   "execution_count": 2,
   "id": "2d32f670",
   "metadata": {
    "execution": {
     "iopub.execute_input": "2024-09-20T18:27:13.223859Z",
     "iopub.status.busy": "2024-09-20T18:27:13.223441Z",
     "iopub.status.idle": "2024-09-20T18:27:13.232247Z",
     "shell.execute_reply": "2024-09-20T18:27:13.230908Z"
    },
    "id": "_umLvlK9AeOl",
    "outputId": "40623656-c96b-478a-abd5-0477de61a635",
    "papermill": {
     "duration": 0.0299,
     "end_time": "2024-09-20T18:27:13.234812",
     "exception": false,
     "start_time": "2024-09-20T18:27:13.204912",
     "status": "completed"
    },
    "tags": []
   },
   "outputs": [
    {
     "name": "stdout",
     "output_type": "stream",
     "text": [
      "/kaggle/working/viwik18\n"
     ]
    }
   ],
   "source": [
    "%cd /kaggle/working/viwik18"
   ]
  },
  {
   "cell_type": "code",
   "execution_count": 3,
   "id": "23923820",
   "metadata": {
    "execution": {
     "iopub.execute_input": "2024-09-20T18:27:13.271075Z",
     "iopub.status.busy": "2024-09-20T18:27:13.270592Z",
     "iopub.status.idle": "2024-09-20T18:27:15.465280Z",
     "shell.execute_reply": "2024-09-20T18:27:15.463614Z"
    },
    "id": "I0gmMh69Bbfn",
    "papermill": {
     "duration": 2.216559,
     "end_time": "2024-09-20T18:27:15.468416",
     "exception": false,
     "start_time": "2024-09-20T18:27:13.251857",
     "status": "completed"
    },
    "tags": []
   },
   "outputs": [],
   "source": [
    "!cat dataset/viwik18_* > viwik18.txt"
   ]
  },
  {
   "cell_type": "markdown",
   "id": "3f941c6f",
   "metadata": {},
   "source": [
    "# Import libraries"
   ]
  },
  {
   "cell_type": "code",
   "execution_count": 4,
   "id": "001993af",
   "metadata": {
    "execution": {
     "iopub.execute_input": "2024-09-20T18:27:15.504352Z",
     "iopub.status.busy": "2024-09-20T18:27:15.503847Z",
     "iopub.status.idle": "2024-09-20T18:27:30.659468Z",
     "shell.execute_reply": "2024-09-20T18:27:30.658396Z"
    },
    "id": "vnjspDrqEnMs",
    "papermill": {
     "duration": 15.177092,
     "end_time": "2024-09-20T18:27:30.662239",
     "exception": false,
     "start_time": "2024-09-20T18:27:15.485147",
     "status": "completed"
    },
    "tags": []
   },
   "outputs": [],
   "source": [
    "from gensim.models import Word2Vec\n",
    "import gensim\n",
    "import nltk\n",
    "from nltk import word_tokenize\n",
    "import numpy as np\n",
    "import matplotlib.pyplot as plt"
   ]
  },
  {
   "cell_type": "markdown",
   "id": "7f4ab8ef",
   "metadata": {},
   "source": [
    "# Preprocessing data"
   ]
  },
  {
   "cell_type": "code",
   "execution_count": 5,
   "id": "9c8b414c",
   "metadata": {
    "execution": {
     "iopub.execute_input": "2024-09-20T18:27:30.699804Z",
     "iopub.status.busy": "2024-09-20T18:27:30.697986Z",
     "iopub.status.idle": "2024-09-20T18:27:36.112188Z",
     "shell.execute_reply": "2024-09-20T18:27:36.110950Z"
    },
    "id": "RQhzQ8OVJCr3",
    "papermill": {
     "duration": 5.435992,
     "end_time": "2024-09-20T18:27:36.115119",
     "exception": false,
     "start_time": "2024-09-20T18:27:30.679127",
     "status": "completed"
    },
    "tags": []
   },
   "outputs": [],
   "source": [
    "with open('/kaggle/working/viwik18/viwik18.txt', 'r') as f:\n",
    "    data = f.read()"
   ]
  },
  {
   "cell_type": "code",
   "execution_count": 6,
   "id": "b74aa550",
   "metadata": {
    "execution": {
     "iopub.execute_input": "2024-09-20T18:27:36.151598Z",
     "iopub.status.busy": "2024-09-20T18:27:36.151168Z",
     "iopub.status.idle": "2024-09-20T18:27:36.160231Z",
     "shell.execute_reply": "2024-09-20T18:27:36.158862Z"
    },
    "id": "HrEg45xCJUXn",
    "outputId": "40184f0d-7421-4cb4-fdeb-3ffb80d9c335",
    "papermill": {
     "duration": 0.030686,
     "end_time": "2024-09-20T18:27:36.162922",
     "exception": false,
     "start_time": "2024-09-20T18:27:36.132236",
     "status": "completed"
    },
    "tags": []
   },
   "outputs": [
    {
     "data": {
      "text/plain": [
       "'trang chính  internet society  internet society hay isoc là một tổ chức quốc tế hoạt động phi lợi nh'"
      ]
     },
     "execution_count": 6,
     "metadata": {},
     "output_type": "execute_result"
    }
   ],
   "source": [
    "data[:100]"
   ]
  },
  {
   "cell_type": "code",
   "execution_count": 7,
   "id": "8f815acd",
   "metadata": {
    "execution": {
     "iopub.execute_input": "2024-09-20T18:27:36.199261Z",
     "iopub.status.busy": "2024-09-20T18:27:36.198769Z",
     "iopub.status.idle": "2024-09-20T18:46:42.588509Z",
     "shell.execute_reply": "2024-09-20T18:46:42.586653Z"
    },
    "id": "EP80oLN-Imlb",
    "papermill": {
     "duration": 1146.434773,
     "end_time": "2024-09-20T18:46:42.614970",
     "exception": false,
     "start_time": "2024-09-20T18:27:36.180197",
     "status": "completed"
    },
    "tags": []
   },
   "outputs": [
    {
     "data": {
      "text/plain": [
       "['trang',\n",
       " 'chính',\n",
       " 'internet',\n",
       " 'society',\n",
       " 'internet',\n",
       " 'society',\n",
       " 'hay',\n",
       " 'isoc',\n",
       " 'là',\n",
       " 'một',\n",
       " 'tổ',\n",
       " 'chức',\n",
       " 'quốc',\n",
       " 'tế',\n",
       " 'hoạt',\n",
       " 'động',\n",
       " 'phi',\n",
       " 'lợi',\n",
       " 'nhuận',\n",
       " 'phi']"
      ]
     },
     "execution_count": 7,
     "metadata": {},
     "output_type": "execute_result"
    }
   ],
   "source": [
    "tokens = word_tokenize(data)\n",
    "tokens[:20]"
   ]
  },
  {
   "cell_type": "code",
   "execution_count": 8,
   "id": "7b8129bd",
   "metadata": {
    "execution": {
     "iopub.execute_input": "2024-09-20T18:46:42.652671Z",
     "iopub.status.busy": "2024-09-20T18:46:42.652158Z",
     "iopub.status.idle": "2024-09-20T18:46:42.661164Z",
     "shell.execute_reply": "2024-09-20T18:46:42.659993Z"
    },
    "papermill": {
     "duration": 0.031074,
     "end_time": "2024-09-20T18:46:42.663640",
     "exception": false,
     "start_time": "2024-09-20T18:46:42.632566",
     "status": "completed"
    },
    "tags": []
   },
   "outputs": [
    {
     "data": {
      "text/plain": [
       "['trang',\n",
       " 'chính',\n",
       " 'internet',\n",
       " 'society',\n",
       " 'internet',\n",
       " 'society',\n",
       " 'hay',\n",
       " 'isoc',\n",
       " 'là',\n",
       " 'một',\n",
       " 'tổ',\n",
       " 'chức',\n",
       " 'quốc',\n",
       " 'tế',\n",
       " 'hoạt',\n",
       " 'động',\n",
       " 'phi',\n",
       " 'lợi',\n",
       " 'nhuận',\n",
       " 'phi']"
      ]
     },
     "execution_count": 8,
     "metadata": {},
     "output_type": "execute_result"
    }
   ],
   "source": [
    "tokens = [tokens]\n",
    "tokens[0][:20]"
   ]
  },
  {
   "cell_type": "markdown",
   "id": "4d91d5b6",
   "metadata": {},
   "source": [
    "# Word2Vec model"
   ]
  },
  {
   "cell_type": "code",
   "execution_count": 9,
   "id": "4dd5f68a",
   "metadata": {
    "execution": {
     "iopub.execute_input": "2024-09-20T18:46:42.700470Z",
     "iopub.status.busy": "2024-09-20T18:46:42.699985Z",
     "iopub.status.idle": "2024-09-20T18:48:03.897512Z",
     "shell.execute_reply": "2024-09-20T18:48:03.896303Z"
    },
    "papermill": {
     "duration": 81.219178,
     "end_time": "2024-09-20T18:48:03.900661",
     "exception": false,
     "start_time": "2024-09-20T18:46:42.681483",
     "status": "completed"
    },
    "tags": []
   },
   "outputs": [],
   "source": [
    "# Create CBOW model\n",
    "model1 = gensim.models.Word2Vec(tokens, min_count=1,\n",
    "                                vector_size=100, window=5)"
   ]
  },
  {
   "cell_type": "code",
   "execution_count": 10,
   "id": "6dfc52b3",
   "metadata": {
    "execution": {
     "iopub.execute_input": "2024-09-20T18:48:03.938395Z",
     "iopub.status.busy": "2024-09-20T18:48:03.937930Z",
     "iopub.status.idle": "2024-09-20T18:48:05.522187Z",
     "shell.execute_reply": "2024-09-20T18:48:05.520838Z"
    },
    "papermill": {
     "duration": 1.606624,
     "end_time": "2024-09-20T18:48:05.524975",
     "exception": false,
     "start_time": "2024-09-20T18:48:03.918351",
     "status": "completed"
    },
    "tags": []
   },
   "outputs": [],
   "source": [
    "model1.save(\"word2vec.model\")"
   ]
  },
  {
   "cell_type": "code",
   "execution_count": 11,
   "id": "65d96805",
   "metadata": {
    "execution": {
     "iopub.execute_input": "2024-09-20T18:48:05.561750Z",
     "iopub.status.busy": "2024-09-20T18:48:05.561293Z",
     "iopub.status.idle": "2024-09-20T18:48:05.573235Z",
     "shell.execute_reply": "2024-09-20T18:48:05.572105Z"
    },
    "papermill": {
     "duration": 0.033238,
     "end_time": "2024-09-20T18:48:05.575725",
     "exception": false,
     "start_time": "2024-09-20T18:48:05.542487",
     "status": "completed"
    },
    "tags": []
   },
   "outputs": [
    {
     "data": {
      "text/plain": [
       "array([-1.44685770e-03,  4.57585743e-03, -8.60078819e-03, -6.53875573e-03,\n",
       "       -2.06504762e-03, -3.89011018e-03, -1.24132982e-03,  4.22266638e-03,\n",
       "        5.72801381e-03, -1.48199098e-02, -1.36240786e-02, -6.75838301e-03,\n",
       "       -4.89302585e-03,  3.63867846e-03, -8.72717053e-03, -3.95046500e-03,\n",
       "        6.23013312e-03,  2.48141913e-03, -3.24741309e-03, -1.43490322e-02,\n",
       "        5.48844552e-03,  1.64088719e-02, -8.97524599e-03,  3.20802093e-03,\n",
       "       -9.02900659e-03,  9.00120754e-03, -1.22614428e-02, -1.65928602e-02,\n",
       "        1.96551788e-03, -5.83893526e-03, -1.09522941e-03, -4.01135068e-03,\n",
       "        3.29256547e-03, -3.81747005e-03, -7.65912607e-03, -4.00600675e-03,\n",
       "       -5.33988327e-03,  8.13009124e-03, -1.15117505e-02, -1.17170904e-02,\n",
       "        2.36521792e-05, -8.62128916e-04,  7.31306709e-03, -1.60957780e-02,\n",
       "        2.48042983e-03, -4.92366869e-03, -6.61787856e-03, -1.55982701e-02,\n",
       "       -5.91997569e-03, -2.65962025e-03,  1.23126491e-04, -1.35007352e-02,\n",
       "        5.06723346e-03,  6.08766451e-03,  2.14570574e-03,  1.19650671e-02,\n",
       "        9.86158382e-04, -1.38878869e-02, -8.40504002e-03, -1.20871114e-02,\n",
       "        6.64573861e-03, -5.94820129e-03,  8.41354299e-03, -9.41337738e-03,\n",
       "       -1.35101704e-02,  8.80170707e-03,  2.79877777e-03, -1.59056298e-02,\n",
       "       -5.53046213e-03, -6.16354588e-03, -3.87543626e-03,  4.40488290e-03,\n",
       "        4.55187494e-03, -9.07062832e-03,  1.12468619e-02,  1.27123063e-02,\n",
       "        4.13616095e-03,  2.19340622e-03, -6.29612291e-03,  2.25799251e-03,\n",
       "       -8.19593295e-03, -4.60116891e-04, -1.34335868e-02,  7.11589679e-03,\n",
       "        1.14795761e-02, -1.34908743e-02, -1.28444014e-02,  8.48928932e-03,\n",
       "        6.76865049e-04,  8.44841916e-03,  6.73581054e-03,  2.45177676e-03,\n",
       "        3.98732303e-03,  3.08348425e-03,  8.57766531e-03,  1.28911678e-02,\n",
       "        9.58865788e-03,  7.71583803e-03,  1.10363783e-02, -1.26484632e-02],\n",
       "      dtype=float32)"
      ]
     },
     "execution_count": 11,
     "metadata": {},
     "output_type": "execute_result"
    }
   ],
   "source": [
    "model1.wv['trang']"
   ]
  },
  {
   "cell_type": "code",
   "execution_count": 12,
   "id": "9621f7e1",
   "metadata": {
    "execution": {
     "iopub.execute_input": "2024-09-20T18:48:05.613244Z",
     "iopub.status.busy": "2024-09-20T18:48:05.612779Z",
     "iopub.status.idle": "2024-09-20T18:48:05.881731Z",
     "shell.execute_reply": "2024-09-20T18:48:05.880118Z"
    },
    "papermill": {
     "duration": 0.293093,
     "end_time": "2024-09-20T18:48:05.886691",
     "exception": false,
     "start_time": "2024-09-20T18:48:05.593598",
     "status": "completed"
    },
    "tags": []
   },
   "outputs": [
    {
     "data": {
      "text/plain": [
       "[('có', 0.9749892950057983),\n",
       " ('như', 0.9741930365562439),\n",
       " ('được', 0.9737900495529175),\n",
       " ('nam', 0.9737685918807983),\n",
       " ('từ', 0.9737446308135986),\n",
       " ('california', 0.9735478758811951),\n",
       " ('các', 0.9731698036193848),\n",
       " ('và', 0.9728968143463135),\n",
       " ('việt', 0.9728813767433167),\n",
       " ('về', 0.9728386402130127)]"
      ]
     },
     "execution_count": 12,
     "metadata": {},
     "output_type": "execute_result"
    }
   ],
   "source": [
    "model1.wv.most_similar('hay', topn=10)"
   ]
  },
  {
   "cell_type": "code",
   "execution_count": 13,
   "id": "f61e5dbc",
   "metadata": {
    "execution": {
     "iopub.execute_input": "2024-09-20T18:48:05.967190Z",
     "iopub.status.busy": "2024-09-20T18:48:05.966137Z",
     "iopub.status.idle": "2024-09-20T18:48:05.973630Z",
     "shell.execute_reply": "2024-09-20T18:48:05.972722Z"
    },
    "papermill": {
     "duration": 0.051395,
     "end_time": "2024-09-20T18:48:05.975987",
     "exception": false,
     "start_time": "2024-09-20T18:48:05.924592",
     "status": "completed"
    },
    "tags": []
   },
   "outputs": [
    {
     "data": {
      "text/plain": [
       "0.41397896"
      ]
     },
     "execution_count": 13,
     "metadata": {},
     "output_type": "execute_result"
    }
   ],
   "source": [
    "model1.wv.similarity('society', 'internet')"
   ]
  },
  {
   "cell_type": "markdown",
   "id": "1b320734",
   "metadata": {},
   "source": [
    "# Visualize embeddings"
   ]
  },
  {
   "cell_type": "code",
   "execution_count": 14,
   "id": "6d168c62",
   "metadata": {
    "execution": {
     "iopub.execute_input": "2024-09-20T18:48:06.015607Z",
     "iopub.status.busy": "2024-09-20T18:48:06.015163Z",
     "iopub.status.idle": "2024-09-20T18:48:06.498085Z",
     "shell.execute_reply": "2024-09-20T18:48:06.496834Z"
    },
    "papermill": {
     "duration": 0.505814,
     "end_time": "2024-09-20T18:48:06.500920",
     "exception": false,
     "start_time": "2024-09-20T18:48:05.995106",
     "status": "completed"
    },
    "tags": []
   },
   "outputs": [
    {
     "data": {
      "image/png": "[encoded data removed]",
      "text/plain": [
       "<Figure size 1000x500 with 3 Axes>"
      ]
     },
     "metadata": {},
     "output_type": "display_data"
    }
   ],
   "source": [
    "words = ['trang', 'là', 'hay']\n",
    "vectors = np.array([model1.wv[word] for word in words])\n",
    "\n",
    "scaled_vectors = (vectors - vectors.min()) / (vectors.max() - vectors.min())\n",
    "\n",
    "fig, axs = plt.subplots(len(words), 1, figsize=(10, 5), constrained_layout=True)\n",
    "for i, word in enumerate(words):\n",
    "    cmap = plt.get_cmap('coolwarm')\n",
    "    colors = cmap(scaled_vectors[i])\n",
    "    axs[i].imshow([scaled_vectors[i]], aspect='auto', cmap=cmap)\n",
    "    axs[i].set_title(word)\n",
    "    axs[i].axis('off')\n",
    "\n",
    "plt.show()"
   ]
  }
 ],
 "metadata": {
  "colab": {
   "provenance": []
  },
  "kaggle": {
   "accelerator": "none",
   "dataSources": [],
   "dockerImageVersionId": 30761,
   "isGpuEnabled": false,
   "isInternetEnabled": true,
   "language": "python",
   "sourceType": "notebook"
  },
  "kernelspec": {
   "display_name": "Python 3",
   "language": "python",
   "name": "python3"
  },
  "language_info": {
   "codemirror_mode": {
    "name": "ipython",
    "version": 3
   },
   "file_extension": ".py",
   "mimetype": "text/x-python",
   "name": "python",
   "nbconvert_exporter": "python",
   "pygments_lexer": "ipython3",
   "version": "3.10.14"
  },
  "papermill": {
   "default_parameters": {},
   "duration": 1293.679481,
   "end_time": "2024-09-20T18:48:10.247560",
   "environment_variables": {},
   "exception": null,
   "input_path": "__notebook__.ipynb",
   "output_path": "__notebook__.ipynb",
   "parameters": {},
   "start_time": "2024-09-20T18:26:36.568079",
   "version": "2.6.0"
  }
 },
 "nbformat": 4,
 "nbformat_minor": 5
}
