{
 "cells": [
  {
   "cell_type": "code",
   "execution_count": 1,
   "id": "1b40d9f7",
   "metadata": {
    "_cell_guid": "b1076dfc-b9ad-4769-8c92-a6c4dae69d19",
    "_uuid": "8f2839f25d086af736a60e9eeb907d3b93b6e0e5",
    "execution": {
     "iopub.execute_input": "2024-10-18T16:00:58.790507Z",
     "iopub.status.busy": "2024-10-18T16:00:58.790071Z",
     "iopub.status.idle": "2024-10-18T16:01:01.322164Z",
     "shell.execute_reply": "2024-10-18T16:01:01.321144Z"
    },
    "papermill": {
     "duration": 2.551217,
     "end_time": "2024-10-18T16:01:01.324726",
     "exception": false,
     "start_time": "2024-10-18T16:00:58.773509",
     "status": "completed"
    },
    "tags": []
   },
   "outputs": [
    {
     "name": "stdout",
     "output_type": "stream",
     "text": [
      "Cloning into 'EVBCorpus'...\r\n",
      "remote: Enumerating objects: 35, done.\u001b[K\r\n",
      "remote: Total 35 (delta 0), reused 0 (delta 0), pack-reused 35 (from 1)\u001b[K\r\n",
      "Receiving objects: 100% (35/35), 35.37 MiB | 51.89 MiB/s, done.\r\n",
      "Resolving deltas: 100% (10/10), done.\r\n"
     ]
    }
   ],
   "source": [
    "!git clone https://github.com/qhungngo/EVBCorpus.git"
   ]
  },
  {
   "cell_type": "code",
   "execution_count": 2,
   "id": "8f9cdf02",
   "metadata": {
    "execution": {
     "iopub.execute_input": "2024-10-18T16:01:01.350803Z",
     "iopub.status.busy": "2024-10-18T16:01:01.350411Z",
     "iopub.status.idle": "2024-10-18T16:01:07.489687Z",
     "shell.execute_reply": "2024-10-18T16:01:07.488571Z"
    },
    "papermill": {
     "duration": 6.154041,
     "end_time": "2024-10-18T16:01:07.492097",
     "exception": false,
     "start_time": "2024-10-18T16:01:01.338056",
     "status": "completed"
    },
    "tags": []
   },
   "outputs": [
    {
     "name": "stdout",
     "output_type": "stream",
     "text": [
      "\r\n",
      "WARNING: apt does not have a stable CLI interface. Use with caution in scripts.\r\n",
      "\r\n"
     ]
    }
   ],
   "source": [
    "!apt install unrar > /dev/null"
   ]
  },
  {
   "cell_type": "code",
   "execution_count": 3,
   "id": "9f2d20c1",
   "metadata": {
    "execution": {
     "iopub.execute_input": "2024-10-18T16:01:07.516501Z",
     "iopub.status.busy": "2024-10-18T16:01:07.515924Z",
     "iopub.status.idle": "2024-10-18T16:01:08.730254Z",
     "shell.execute_reply": "2024-10-18T16:01:08.728970Z"
    },
    "papermill": {
     "duration": 1.22917,
     "end_time": "2024-10-18T16:01:08.732725",
     "exception": false,
     "start_time": "2024-10-18T16:01:07.503555",
     "status": "completed"
    },
    "tags": []
   },
   "outputs": [],
   "source": [
    "!unrar x -inul /kaggle/working/EVBCorpus/EVBCorpus_EVBNews_v2.0.rar /kaggle/working/data/"
   ]
  },
  {
   "cell_type": "code",
   "execution_count": 4,
   "id": "8e170d21",
   "metadata": {
    "execution": {
     "iopub.execute_input": "2024-10-18T16:01:08.757163Z",
     "iopub.status.busy": "2024-10-18T16:01:08.756840Z",
     "iopub.status.idle": "2024-10-18T16:01:09.737512Z",
     "shell.execute_reply": "2024-10-18T16:01:09.736537Z"
    },
    "papermill": {
     "duration": 0.995744,
     "end_time": "2024-10-18T16:01:09.739929",
     "exception": false,
     "start_time": "2024-10-18T16:01:08.744185",
     "status": "completed"
    },
    "tags": []
   },
   "outputs": [
    {
     "name": "stdout",
     "output_type": "stream",
     "text": [
      "N0001.sgml\r\n",
      "N0002.sgml\r\n",
      "N0003.sgml\r\n",
      "ls: write error: Broken pipe\r\n"
     ]
    }
   ],
   "source": [
    "!ls \"/kaggle/working/data\" | head -3"
   ]
  },
  {
   "cell_type": "code",
   "execution_count": 5,
   "id": "c86cef32",
   "metadata": {
    "execution": {
     "iopub.execute_input": "2024-10-18T16:01:09.764901Z",
     "iopub.status.busy": "2024-10-18T16:01:09.764513Z",
     "iopub.status.idle": "2024-10-18T16:01:22.282372Z",
     "shell.execute_reply": "2024-10-18T16:01:22.281177Z"
    },
    "papermill": {
     "duration": 12.533015,
     "end_time": "2024-10-18T16:01:22.284808",
     "exception": false,
     "start_time": "2024-10-18T16:01:09.751793",
     "status": "completed"
    },
    "tags": []
   },
   "outputs": [
    {
     "name": "stdout",
     "output_type": "stream",
     "text": [
      "Requirement already satisfied: beautifulsoup4 in /opt/conda/lib/python3.10/site-packages (4.12.3)\r\n",
      "Requirement already satisfied: soupsieve>1.2 in /opt/conda/lib/python3.10/site-packages (from beautifulsoup4) (2.5)\r\n"
     ]
    }
   ],
   "source": [
    "!pip install beautifulsoup4"
   ]
  },
  {
   "cell_type": "code",
   "execution_count": 6,
   "id": "8c61d933",
   "metadata": {
    "execution": {
     "iopub.execute_input": "2024-10-18T16:01:22.309517Z",
     "iopub.status.busy": "2024-10-18T16:01:22.309141Z",
     "iopub.status.idle": "2024-10-18T16:01:36.917591Z",
     "shell.execute_reply": "2024-10-18T16:01:36.916591Z"
    },
    "papermill": {
     "duration": 14.62348,
     "end_time": "2024-10-18T16:01:36.920029",
     "exception": false,
     "start_time": "2024-10-18T16:01:22.296549",
     "status": "completed"
    },
    "tags": []
   },
   "outputs": [],
   "source": [
    "from bs4 import BeautifulSoup\n",
    "import os\n",
    "import numpy as np\n",
    "import matplotlib.pyplot as plt\n",
    "from sklearn.model_selection import train_test_split\n",
    "import tensorflow as tf\n",
    "from tensorflow.keras.preprocessing.text import Tokenizer\n",
    "from tensorflow.keras.preprocessing.sequence import pad_sequences\n",
    "from tensorflow.keras.callbacks import ModelCheckpoint\n",
    "from keras.callbacks import EarlyStopping"
   ]
  },
  {
   "cell_type": "code",
   "execution_count": 7,
   "id": "d123239d",
   "metadata": {
    "execution": {
     "iopub.execute_input": "2024-10-18T16:01:36.945612Z",
     "iopub.status.busy": "2024-10-18T16:01:36.944580Z",
     "iopub.status.idle": "2024-10-18T16:01:46.264493Z",
     "shell.execute_reply": "2024-10-18T16:01:46.263709Z"
    },
    "papermill": {
     "duration": 9.334918,
     "end_time": "2024-10-18T16:01:46.266788",
     "exception": false,
     "start_time": "2024-10-18T16:01:36.931870",
     "status": "completed"
    },
    "tags": []
   },
   "outputs": [],
   "source": [
    "en, vi = [], []\n",
    "for filename in os.listdir('/kaggle/working/data/'):\n",
    "    with open(os.path.join('/kaggle/working/data/', filename), 'r') as f:\n",
    "        doc = f.read()\n",
    "    doc = BeautifulSoup(doc)\n",
    "    text = [f'<eos> {tag_text.get_text()} <sos>' for tag_text in doc.find_all('s')]\n",
    "    for i in range(0, len(text), 2):\n",
    "        en.append(text[i])\n",
    "        vi.append(text[i+1])"
   ]
  },
  {
   "cell_type": "code",
   "execution_count": 8,
   "id": "de1d326c",
   "metadata": {
    "execution": {
     "iopub.execute_input": "2024-10-18T16:01:46.292405Z",
     "iopub.status.busy": "2024-10-18T16:01:46.291558Z",
     "iopub.status.idle": "2024-10-18T16:01:46.296803Z",
     "shell.execute_reply": "2024-10-18T16:01:46.295971Z"
    },
    "papermill": {
     "duration": 0.020236,
     "end_time": "2024-10-18T16:01:46.298866",
     "exception": false,
     "start_time": "2024-10-18T16:01:46.278630",
     "status": "completed"
    },
    "tags": []
   },
   "outputs": [
    {
     "name": "stdout",
     "output_type": "stream",
     "text": [
      "Length of data: 45308, 45308\n",
      "First sentence pair: \"<eos> Marking International Women 's Day <sos>\" --> \"<eos> Kỷ niệm ngày quốc tế phụ nữ <sos>\"\n"
     ]
    }
   ],
   "source": [
    "print(f\"Length of data: {len(en)}, {len(vi)}\")\n",
    "print(f'First sentence pair: \"{en[0]}\" --> \"{vi[0]}\"')"
   ]
  },
  {
   "cell_type": "code",
   "execution_count": 9,
   "id": "b46fcecc",
   "metadata": {
    "execution": {
     "iopub.execute_input": "2024-10-18T16:01:46.323599Z",
     "iopub.status.busy": "2024-10-18T16:01:46.322863Z",
     "iopub.status.idle": "2024-10-18T16:01:46.357445Z",
     "shell.execute_reply": "2024-10-18T16:01:46.356702Z"
    },
    "papermill": {
     "duration": 0.049306,
     "end_time": "2024-10-18T16:01:46.359596",
     "exception": false,
     "start_time": "2024-10-18T16:01:46.310290",
     "status": "completed"
    },
    "tags": []
   },
   "outputs": [],
   "source": [
    "en_train, en_test, vi_train, vi_test = train_test_split(en, vi, test_size=0.1, shuffle=True, random_state=42)"
   ]
  },
  {
   "cell_type": "code",
   "execution_count": 10,
   "id": "1e637cd4",
   "metadata": {
    "execution": {
     "iopub.execute_input": "2024-10-18T16:01:46.384342Z",
     "iopub.status.busy": "2024-10-18T16:01:46.383788Z",
     "iopub.status.idle": "2024-10-18T16:01:47.348105Z",
     "shell.execute_reply": "2024-10-18T16:01:47.347035Z"
    },
    "papermill": {
     "duration": 0.979492,
     "end_time": "2024-10-18T16:01:47.350776",
     "exception": false,
     "start_time": "2024-10-18T16:01:46.371284",
     "status": "completed"
    },
    "tags": []
   },
   "outputs": [],
   "source": [
    "en_tokenizer = Tokenizer(num_words=15000, filters='', lower=False, oov_token='<oov>')\n",
    "en_tokenizer.fit_on_texts(en_train)"
   ]
  },
  {
   "cell_type": "code",
   "execution_count": 11,
   "id": "ac53f358",
   "metadata": {
    "execution": {
     "iopub.execute_input": "2024-10-18T16:01:47.375283Z",
     "iopub.status.busy": "2024-10-18T16:01:47.374942Z",
     "iopub.status.idle": "2024-10-18T16:01:48.798450Z",
     "shell.execute_reply": "2024-10-18T16:01:48.797443Z"
    },
    "papermill": {
     "duration": 1.438416,
     "end_time": "2024-10-18T16:01:48.800907",
     "exception": false,
     "start_time": "2024-10-18T16:01:47.362491",
     "status": "completed"
    },
    "tags": []
   },
   "outputs": [],
   "source": [
    "vi_tokenizer = Tokenizer(num_words=15000, filters='', lower=False, oov_token='<oov>')\n",
    "vi_tokenizer.fit_on_texts(vi_train)"
   ]
  },
  {
   "cell_type": "code",
   "execution_count": 12,
   "id": "af0e1eb7",
   "metadata": {
    "execution": {
     "iopub.execute_input": "2024-10-18T16:01:48.825418Z",
     "iopub.status.busy": "2024-10-18T16:01:48.824879Z",
     "iopub.status.idle": "2024-10-18T16:01:48.829350Z",
     "shell.execute_reply": "2024-10-18T16:01:48.828473Z"
    },
    "papermill": {
     "duration": 0.019,
     "end_time": "2024-10-18T16:01:48.831553",
     "exception": false,
     "start_time": "2024-10-18T16:01:48.812553",
     "status": "completed"
    },
    "tags": []
   },
   "outputs": [
    {
     "name": "stdout",
     "output_type": "stream",
     "text": [
      "Length of en vocab: 39046, vi vocab: 17482\n"
     ]
    }
   ],
   "source": [
    "print(f'Length of en vocab: {len(en_tokenizer.word_index)}, vi vocab: {len(vi_tokenizer.word_index)}')"
   ]
  },
  {
   "cell_type": "code",
   "execution_count": 13,
   "id": "d1c0155c",
   "metadata": {
    "execution": {
     "iopub.execute_input": "2024-10-18T16:01:48.855223Z",
     "iopub.status.busy": "2024-10-18T16:01:48.854959Z",
     "iopub.status.idle": "2024-10-18T16:01:48.860183Z",
     "shell.execute_reply": "2024-10-18T16:01:48.859416Z"
    },
    "papermill": {
     "duration": 0.019362,
     "end_time": "2024-10-18T16:01:48.862202",
     "exception": false,
     "start_time": "2024-10-18T16:01:48.842840",
     "status": "completed"
    },
    "tags": []
   },
   "outputs": [
    {
     "name": "stdout",
     "output_type": "stream",
     "text": [
      "3\n",
      "2\n",
      "3\n",
      "2\n",
      "1\n"
     ]
    }
   ],
   "source": [
    "print(en_tokenizer.word_index.get('<sos>'))\n",
    "print(en_tokenizer.word_index.get('<eos>'))\n",
    "print(vi_tokenizer.word_index.get('<sos>'))\n",
    "print(vi_tokenizer.word_index.get('<eos>'))\n",
    "print(vi_tokenizer.word_index.get('<oov>'))"
   ]
  },
  {
   "cell_type": "code",
   "execution_count": 14,
   "id": "ca8ba541",
   "metadata": {
    "execution": {
     "iopub.execute_input": "2024-10-18T16:01:48.886392Z",
     "iopub.status.busy": "2024-10-18T16:01:48.885873Z",
     "iopub.status.idle": "2024-10-18T16:01:50.996839Z",
     "shell.execute_reply": "2024-10-18T16:01:50.996003Z"
    },
    "papermill": {
     "duration": 2.125679,
     "end_time": "2024-10-18T16:01:50.999201",
     "exception": false,
     "start_time": "2024-10-18T16:01:48.873522",
     "status": "completed"
    },
    "tags": []
   },
   "outputs": [],
   "source": [
    "en_train = en_tokenizer.texts_to_sequences(en_train)\n",
    "vi_train = vi_tokenizer.texts_to_sequences(vi_train)"
   ]
  },
  {
   "cell_type": "code",
   "execution_count": 15,
   "id": "355f9ce6",
   "metadata": {
    "execution": {
     "iopub.execute_input": "2024-10-18T16:01:51.025111Z",
     "iopub.status.busy": "2024-10-18T16:01:51.024752Z",
     "iopub.status.idle": "2024-10-18T16:01:51.068806Z",
     "shell.execute_reply": "2024-10-18T16:01:51.067740Z"
    },
    "papermill": {
     "duration": 0.05959,
     "end_time": "2024-10-18T16:01:51.070733",
     "exception": false,
     "start_time": "2024-10-18T16:01:51.011143",
     "status": "completed"
    },
    "tags": []
   },
   "outputs": [
    {
     "name": "stdout",
     "output_type": "stream",
     "text": [
      "Max en len: 130\n",
      "Max vi len: 164\n"
     ]
    }
   ],
   "source": [
    "max_en_len, max_vi_len = 0, 0\n",
    "for i in range(len(en_train)):\n",
    "    max_en_len = max(max_en_len, len(en_train[i]))\n",
    "    max_vi_len = max(max_vi_len, len(vi_train[i]))\n",
    "print(f'Max en len: {max_en_len}')\n",
    "print(f'Max vi len: {max_vi_len}')"
   ]
  },
  {
   "cell_type": "code",
   "execution_count": 16,
   "id": "64bc7789",
   "metadata": {
    "execution": {
     "iopub.execute_input": "2024-10-18T16:01:51.096428Z",
     "iopub.status.busy": "2024-10-18T16:01:51.096079Z",
     "iopub.status.idle": "2024-10-18T16:01:51.539502Z",
     "shell.execute_reply": "2024-10-18T16:01:51.538548Z"
    },
    "papermill": {
     "duration": 0.458774,
     "end_time": "2024-10-18T16:01:51.542005",
     "exception": false,
     "start_time": "2024-10-18T16:01:51.083231",
     "status": "completed"
    },
    "tags": []
   },
   "outputs": [],
   "source": [
    "en_train = pad_sequences(en_train, maxlen=max_en_len, padding='post')\n",
    "vi_train = pad_sequences(vi_train, maxlen=max_vi_len, padding='post')"
   ]
  },
  {
   "cell_type": "code",
   "execution_count": 17,
   "id": "bcd9d804",
   "metadata": {
    "execution": {
     "iopub.execute_input": "2024-10-18T16:01:51.572403Z",
     "iopub.status.busy": "2024-10-18T16:01:51.572000Z",
     "iopub.status.idle": "2024-10-18T16:01:51.577588Z",
     "shell.execute_reply": "2024-10-18T16:01:51.576657Z"
    },
    "papermill": {
     "duration": 0.023392,
     "end_time": "2024-10-18T16:01:51.579630",
     "exception": false,
     "start_time": "2024-10-18T16:01:51.556238",
     "status": "completed"
    },
    "tags": []
   },
   "outputs": [],
   "source": [
    "def prepare_batch(en, vi):\n",
    "    en = tf.convert_to_tensor(en)\n",
    "    vi_inputs = tf.convert_to_tensor(vi[:, :-1])\n",
    "    vi_labels = tf.convert_to_tensor(vi[:, 1:])\n",
    "    return (en, vi_inputs), vi_labels"
   ]
  },
  {
   "cell_type": "code",
   "execution_count": 18,
   "id": "9396abed",
   "metadata": {
    "execution": {
     "iopub.execute_input": "2024-10-18T16:01:51.605569Z",
     "iopub.status.busy": "2024-10-18T16:01:51.605201Z",
     "iopub.status.idle": "2024-10-18T16:01:51.634788Z",
     "shell.execute_reply": "2024-10-18T16:01:51.633943Z"
    },
    "papermill": {
     "duration": 0.044977,
     "end_time": "2024-10-18T16:01:51.637061",
     "exception": false,
     "start_time": "2024-10-18T16:01:51.592084",
     "status": "completed"
    },
    "tags": []
   },
   "outputs": [],
   "source": [
    "en_train, en_val, vi_train, vi_val = train_test_split(en_train, vi_train, test_size=0.1, shuffle=True, random_state=42)"
   ]
  },
  {
   "cell_type": "code",
   "execution_count": 19,
   "id": "12f2b555",
   "metadata": {
    "execution": {
     "iopub.execute_input": "2024-10-18T16:01:51.663622Z",
     "iopub.status.busy": "2024-10-18T16:01:51.663262Z",
     "iopub.status.idle": "2024-10-18T16:01:52.445549Z",
     "shell.execute_reply": "2024-10-18T16:01:52.444499Z"
    },
    "papermill": {
     "duration": 0.798248,
     "end_time": "2024-10-18T16:01:52.447972",
     "exception": false,
     "start_time": "2024-10-18T16:01:51.649724",
     "status": "completed"
    },
    "tags": []
   },
   "outputs": [],
   "source": [
    "BATCH_SIZE = 64\n",
    "train_batches = tf.data.Dataset.from_tensor_slices((en_train, vi_train)).batch(BATCH_SIZE).map(prepare_batch)\n",
    "val_batches = tf.data.Dataset.from_tensor_slices((en_val, vi_val)).batch(BATCH_SIZE).map(prepare_batch)"
   ]
  },
  {
   "cell_type": "markdown",
   "id": "91861357",
   "metadata": {
    "papermill": {
     "duration": 0.011861,
     "end_time": "2024-10-18T16:01:52.472057",
     "exception": false,
     "start_time": "2024-10-18T16:01:52.460196",
     "status": "completed"
    },
    "tags": []
   },
   "source": [
    "# Define components and transformer model"
   ]
  },
  {
   "cell_type": "code",
   "execution_count": 20,
   "id": "e55bbee8",
   "metadata": {
    "execution": {
     "iopub.execute_input": "2024-10-18T16:01:52.496296Z",
     "iopub.status.busy": "2024-10-18T16:01:52.495986Z",
     "iopub.status.idle": "2024-10-18T16:01:52.502127Z",
     "shell.execute_reply": "2024-10-18T16:01:52.501228Z"
    },
    "papermill": {
     "duration": 0.020423,
     "end_time": "2024-10-18T16:01:52.503928",
     "exception": false,
     "start_time": "2024-10-18T16:01:52.483505",
     "status": "completed"
    },
    "tags": []
   },
   "outputs": [],
   "source": [
    "def positional_encoding(length, depth):\n",
    "    depth = depth/2\n",
    "\n",
    "    positions = np.arange(length)[:, np.newaxis]     # (seq, 1)\n",
    "    depths = np.arange(depth)[np.newaxis, :]/depth   # (1, depth)\n",
    "\n",
    "    angle_rates = 1 / (10000**depths)         # (1, depth)\n",
    "    angle_rads = positions * angle_rates      # (pos, depth)\n",
    "\n",
    "    pos_encoding = np.concatenate(\n",
    "      [np.sin(angle_rads), np.cos(angle_rads)],\n",
    "      axis=-1) \n",
    "\n",
    "    return tf.cast(pos_encoding, dtype=tf.float32)"
   ]
  },
  {
   "cell_type": "code",
   "execution_count": 21,
   "id": "846a7710",
   "metadata": {
    "execution": {
     "iopub.execute_input": "2024-10-18T16:01:52.528072Z",
     "iopub.status.busy": "2024-10-18T16:01:52.527774Z",
     "iopub.status.idle": "2024-10-18T16:01:52.534875Z",
     "shell.execute_reply": "2024-10-18T16:01:52.533996Z"
    },
    "papermill": {
     "duration": 0.021436,
     "end_time": "2024-10-18T16:01:52.536807",
     "exception": false,
     "start_time": "2024-10-18T16:01:52.515371",
     "status": "completed"
    },
    "tags": []
   },
   "outputs": [],
   "source": [
    "class PositionalEmbedding(tf.keras.layers.Layer):\n",
    "    def __init__(self, vocab_size, d_model):\n",
    "        super().__init__()\n",
    "        self.d_model = d_model\n",
    "        self.embedding = tf.keras.layers.Embedding(vocab_size, d_model, mask_zero=True) \n",
    "        self.pos_encoding = positional_encoding(length=2048, depth=d_model)\n",
    "\n",
    "    def compute_mask(self, *args, **kwargs):\n",
    "        return self.embedding.compute_mask(*args, **kwargs)\n",
    "\n",
    "    def call(self, x):\n",
    "        length = tf.shape(x)[1]\n",
    "        x = self.embedding(x)\n",
    "        # This factor sets the relative scale of the embedding and positonal_encoding.\n",
    "        x *= tf.math.sqrt(tf.cast(self.d_model, tf.float32))\n",
    "        x = x + self.pos_encoding[tf.newaxis, :length, :]\n",
    "        return x"
   ]
  },
  {
   "cell_type": "code",
   "execution_count": 22,
   "id": "7d113e89",
   "metadata": {
    "execution": {
     "iopub.execute_input": "2024-10-18T16:01:52.561357Z",
     "iopub.status.busy": "2024-10-18T16:01:52.560867Z",
     "iopub.status.idle": "2024-10-18T16:01:52.566597Z",
     "shell.execute_reply": "2024-10-18T16:01:52.565749Z"
    },
    "papermill": {
     "duration": 0.020279,
     "end_time": "2024-10-18T16:01:52.568504",
     "exception": false,
     "start_time": "2024-10-18T16:01:52.548225",
     "status": "completed"
    },
    "tags": []
   },
   "outputs": [],
   "source": [
    "class BaseAttention(tf.keras.layers.Layer):\n",
    "    def __init__(self, **kwargs):\n",
    "        super().__init__()\n",
    "        self.mha = tf.keras.layers.MultiHeadAttention(**kwargs)\n",
    "        self.layernorm = tf.keras.layers.LayerNormalization()\n",
    "        self.add = tf.keras.layers.Add()"
   ]
  },
  {
   "cell_type": "code",
   "execution_count": 23,
   "id": "c4fe8e40",
   "metadata": {
    "execution": {
     "iopub.execute_input": "2024-10-18T16:01:52.592821Z",
     "iopub.status.busy": "2024-10-18T16:01:52.592280Z",
     "iopub.status.idle": "2024-10-18T16:01:52.597745Z",
     "shell.execute_reply": "2024-10-18T16:01:52.596879Z"
    },
    "papermill": {
     "duration": 0.019652,
     "end_time": "2024-10-18T16:01:52.599645",
     "exception": false,
     "start_time": "2024-10-18T16:01:52.579993",
     "status": "completed"
    },
    "tags": []
   },
   "outputs": [],
   "source": [
    "class CrossAttention(BaseAttention):\n",
    "    def call(self, x, context):\n",
    "        attn_output, attn_scores = self.mha(\n",
    "            query=x,\n",
    "            key=context,\n",
    "            value=context,\n",
    "            return_attention_scores=True)\n",
    "\n",
    "        # Cache the attention scores for plotting later.\n",
    "        self.last_attn_scores = attn_scores\n",
    "\n",
    "        x = self.add([x, attn_output])\n",
    "        x = self.layernorm(x)\n",
    "\n",
    "        return x"
   ]
  },
  {
   "cell_type": "code",
   "execution_count": 24,
   "id": "cc463dae",
   "metadata": {
    "execution": {
     "iopub.execute_input": "2024-10-18T16:01:52.623642Z",
     "iopub.status.busy": "2024-10-18T16:01:52.623350Z",
     "iopub.status.idle": "2024-10-18T16:01:52.628208Z",
     "shell.execute_reply": "2024-10-18T16:01:52.627372Z"
    },
    "papermill": {
     "duration": 0.018855,
     "end_time": "2024-10-18T16:01:52.630020",
     "exception": false,
     "start_time": "2024-10-18T16:01:52.611165",
     "status": "completed"
    },
    "tags": []
   },
   "outputs": [],
   "source": [
    "class GlobalSelfAttention(BaseAttention):\n",
    "    def call(self, x):\n",
    "        attn_output = self.mha(\n",
    "            query=x,\n",
    "            value=x,\n",
    "            key=x)\n",
    "        x = self.add([x, attn_output])\n",
    "        x = self.layernorm(x)\n",
    "        return x"
   ]
  },
  {
   "cell_type": "code",
   "execution_count": 25,
   "id": "f7867e73",
   "metadata": {
    "execution": {
     "iopub.execute_input": "2024-10-18T16:01:52.654831Z",
     "iopub.status.busy": "2024-10-18T16:01:52.654108Z",
     "iopub.status.idle": "2024-10-18T16:01:52.659583Z",
     "shell.execute_reply": "2024-10-18T16:01:52.658753Z"
    },
    "papermill": {
     "duration": 0.020032,
     "end_time": "2024-10-18T16:01:52.661470",
     "exception": false,
     "start_time": "2024-10-18T16:01:52.641438",
     "status": "completed"
    },
    "tags": []
   },
   "outputs": [],
   "source": [
    "class CausalSelfAttention(BaseAttention):\n",
    "    def call(self, x):\n",
    "        attn_output = self.mha(\n",
    "            query=x,\n",
    "            value=x,\n",
    "            key=x,\n",
    "            use_causal_mask = True)\n",
    "        x = self.add([x, attn_output])\n",
    "        x = self.layernorm(x)\n",
    "        return x"
   ]
  },
  {
   "cell_type": "code",
   "execution_count": 26,
   "id": "5ee005f3",
   "metadata": {
    "execution": {
     "iopub.execute_input": "2024-10-18T16:01:52.686351Z",
     "iopub.status.busy": "2024-10-18T16:01:52.685717Z",
     "iopub.status.idle": "2024-10-18T16:01:52.692563Z",
     "shell.execute_reply": "2024-10-18T16:01:52.691670Z"
    },
    "papermill": {
     "duration": 0.021444,
     "end_time": "2024-10-18T16:01:52.694489",
     "exception": false,
     "start_time": "2024-10-18T16:01:52.673045",
     "status": "completed"
    },
    "tags": []
   },
   "outputs": [],
   "source": [
    "class FeedForward(tf.keras.layers.Layer):\n",
    "    def __init__(self, d_model, dff, dropout_rate=0.1):\n",
    "        super().__init__()\n",
    "        self.seq = tf.keras.Sequential([\n",
    "          tf.keras.layers.Dense(dff, activation='relu'),\n",
    "          tf.keras.layers.Dense(d_model),\n",
    "          tf.keras.layers.Dropout(dropout_rate)\n",
    "        ])\n",
    "        self.add = tf.keras.layers.Add()\n",
    "        self.layer_norm = tf.keras.layers.LayerNormalization()\n",
    "\n",
    "    def call(self, x):\n",
    "        x = self.add([x, self.seq(x)])\n",
    "        x = self.layer_norm(x) \n",
    "        return x"
   ]
  },
  {
   "cell_type": "code",
   "execution_count": 27,
   "id": "b548143d",
   "metadata": {
    "execution": {
     "iopub.execute_input": "2024-10-18T16:01:52.718843Z",
     "iopub.status.busy": "2024-10-18T16:01:52.718492Z",
     "iopub.status.idle": "2024-10-18T16:01:52.724462Z",
     "shell.execute_reply": "2024-10-18T16:01:52.723579Z"
    },
    "papermill": {
     "duration": 0.020444,
     "end_time": "2024-10-18T16:01:52.726460",
     "exception": false,
     "start_time": "2024-10-18T16:01:52.706016",
     "status": "completed"
    },
    "tags": []
   },
   "outputs": [],
   "source": [
    "class EncoderLayer(tf.keras.layers.Layer):\n",
    "    def __init__(self,*, d_model, num_heads, dff, dropout_rate=0.1):\n",
    "        super().__init__()\n",
    "\n",
    "        self.self_attention = GlobalSelfAttention(\n",
    "            num_heads=num_heads,\n",
    "            key_dim=d_model,\n",
    "            dropout=dropout_rate)\n",
    "\n",
    "        self.ffn = FeedForward(d_model, dff)\n",
    "\n",
    "    def call(self, x):\n",
    "        x = self.self_attention(x)\n",
    "        x = self.ffn(x)\n",
    "        return x"
   ]
  },
  {
   "cell_type": "code",
   "execution_count": 28,
   "id": "2c6e63d0",
   "metadata": {
    "execution": {
     "iopub.execute_input": "2024-10-18T16:01:52.751800Z",
     "iopub.status.busy": "2024-10-18T16:01:52.751065Z",
     "iopub.status.idle": "2024-10-18T16:01:52.758926Z",
     "shell.execute_reply": "2024-10-18T16:01:52.758056Z"
    },
    "papermill": {
     "duration": 0.02276,
     "end_time": "2024-10-18T16:01:52.760991",
     "exception": false,
     "start_time": "2024-10-18T16:01:52.738231",
     "status": "completed"
    },
    "tags": []
   },
   "outputs": [],
   "source": [
    "class Encoder(tf.keras.layers.Layer):\n",
    "    def __init__(self, *, num_layers, d_model, num_heads,\n",
    "               dff, vocab_size, dropout_rate=0.1):\n",
    "        super().__init__()\n",
    "\n",
    "        self.d_model = d_model\n",
    "        self.num_layers = num_layers\n",
    "\n",
    "        self.pos_embedding = PositionalEmbedding(\n",
    "            vocab_size=vocab_size, d_model=d_model)\n",
    "\n",
    "        self.enc_layers = [\n",
    "            EncoderLayer(d_model=d_model,\n",
    "                         num_heads=num_heads,\n",
    "                         dff=dff,\n",
    "                         dropout_rate=dropout_rate)\n",
    "            for _ in range(num_layers)]\n",
    "        self.dropout = tf.keras.layers.Dropout(dropout_rate)\n",
    "\n",
    "    def call(self, x):\n",
    "        # `x` is token-IDs shape: (batch, seq_len)\n",
    "        x = self.pos_embedding(x)  # Shape `(batch_size, seq_len, d_model)`.\n",
    "\n",
    "        # Add dropout.\n",
    "        x = self.dropout(x)\n",
    "\n",
    "        for i in range(self.num_layers):\n",
    "              x = self.enc_layers[i](x)\n",
    "\n",
    "        return x  # Shape `(batch_size, seq_len, d_model)`."
   ]
  },
  {
   "cell_type": "code",
   "execution_count": 29,
   "id": "98008e94",
   "metadata": {
    "execution": {
     "iopub.execute_input": "2024-10-18T16:01:52.786171Z",
     "iopub.status.busy": "2024-10-18T16:01:52.785399Z",
     "iopub.status.idle": "2024-10-18T16:01:52.792708Z",
     "shell.execute_reply": "2024-10-18T16:01:52.791726Z"
    },
    "papermill": {
     "duration": 0.022052,
     "end_time": "2024-10-18T16:01:52.794632",
     "exception": false,
     "start_time": "2024-10-18T16:01:52.772580",
     "status": "completed"
    },
    "tags": []
   },
   "outputs": [],
   "source": [
    "class DecoderLayer(tf.keras.layers.Layer):\n",
    "    def __init__(self,\n",
    "               *,\n",
    "               d_model,\n",
    "               num_heads,\n",
    "               dff,\n",
    "               dropout_rate=0.1):\n",
    "        super(DecoderLayer, self).__init__()\n",
    "\n",
    "        self.causal_self_attention = CausalSelfAttention(\n",
    "            num_heads=num_heads,\n",
    "            key_dim=d_model,\n",
    "            dropout=dropout_rate)\n",
    "\n",
    "        self.cross_attention = CrossAttention(\n",
    "            num_heads=num_heads,\n",
    "            key_dim=d_model,\n",
    "            dropout=dropout_rate)\n",
    "\n",
    "        self.ffn = FeedForward(d_model, dff)\n",
    "\n",
    "    def call(self, x, context):\n",
    "        x = self.causal_self_attention(x=x)\n",
    "        x = self.cross_attention(x=x, context=context)\n",
    "\n",
    "        # Cache the last attention scores for plotting later\n",
    "        self.last_attn_scores = self.cross_attention.last_attn_scores\n",
    "\n",
    "        x = self.ffn(x)  # Shape `(batch_size, seq_len, d_model)`.\n",
    "        return x"
   ]
  },
  {
   "cell_type": "code",
   "execution_count": 30,
   "id": "66e2d8f1",
   "metadata": {
    "execution": {
     "iopub.execute_input": "2024-10-18T16:01:52.818773Z",
     "iopub.status.busy": "2024-10-18T16:01:52.818465Z",
     "iopub.status.idle": "2024-10-18T16:01:52.826477Z",
     "shell.execute_reply": "2024-10-18T16:01:52.825605Z"
    },
    "papermill": {
     "duration": 0.022314,
     "end_time": "2024-10-18T16:01:52.828426",
     "exception": false,
     "start_time": "2024-10-18T16:01:52.806112",
     "status": "completed"
    },
    "tags": []
   },
   "outputs": [],
   "source": [
    "class Decoder(tf.keras.layers.Layer):\n",
    "    def __init__(self, *, num_layers, d_model, num_heads, dff, vocab_size,\n",
    "               dropout_rate=0.1):\n",
    "        super(Decoder, self).__init__()\n",
    "\n",
    "        self.d_model = d_model\n",
    "        self.num_layers = num_layers\n",
    "\n",
    "        self.pos_embedding = PositionalEmbedding(vocab_size=vocab_size,\n",
    "                                                 d_model=d_model)\n",
    "        self.dropout = tf.keras.layers.Dropout(dropout_rate)\n",
    "        self.dec_layers = [\n",
    "            DecoderLayer(d_model=d_model, num_heads=num_heads,\n",
    "                         dff=dff, dropout_rate=dropout_rate)\n",
    "            for _ in range(num_layers)]\n",
    "\n",
    "        self.last_attn_scores = None\n",
    "\n",
    "    def call(self, x, context):\n",
    "        # `x` is token-IDs shape (batch, target_seq_len)\n",
    "        x = self.pos_embedding(x)  # (batch_size, target_seq_len, d_model)\n",
    "\n",
    "        x = self.dropout(x)\n",
    "\n",
    "        for i in range(self.num_layers):\n",
    "            x  = self.dec_layers[i](x, context)\n",
    "\n",
    "        self.last_attn_scores = self.dec_layers[-1].last_attn_scores\n",
    "\n",
    "        # The shape of x is (batch_size, target_seq_len, d_model).\n",
    "        return x"
   ]
  },
  {
   "cell_type": "code",
   "execution_count": 31,
   "id": "1fe8a4db",
   "metadata": {
    "execution": {
     "iopub.execute_input": "2024-10-18T16:01:52.852914Z",
     "iopub.status.busy": "2024-10-18T16:01:52.852191Z",
     "iopub.status.idle": "2024-10-18T16:01:52.860187Z",
     "shell.execute_reply": "2024-10-18T16:01:52.859372Z"
    },
    "papermill": {
     "duration": 0.022291,
     "end_time": "2024-10-18T16:01:52.862080",
     "exception": false,
     "start_time": "2024-10-18T16:01:52.839789",
     "status": "completed"
    },
    "tags": []
   },
   "outputs": [],
   "source": [
    "class Transformer(tf.keras.Model):\n",
    "    def __init__(self, *, num_layers, d_model, num_heads, dff,\n",
    "               input_vocab_size, target_vocab_size, dropout_rate=0.1):\n",
    "        super().__init__()\n",
    "        self.encoder = Encoder(num_layers=num_layers, d_model=d_model,\n",
    "                               num_heads=num_heads, dff=dff,\n",
    "                               vocab_size=input_vocab_size,\n",
    "                               dropout_rate=dropout_rate)\n",
    "\n",
    "        self.decoder = Decoder(num_layers=num_layers, d_model=d_model,\n",
    "                               num_heads=num_heads, dff=dff,\n",
    "                               vocab_size=target_vocab_size,\n",
    "                               dropout_rate=dropout_rate)\n",
    "\n",
    "        self.final_layer = tf.keras.layers.Dense(target_vocab_size)\n",
    "\n",
    "    def call(self, inputs):\n",
    "        # To use a Keras model with `.fit` you must pass all your inputs in the\n",
    "        # first argument.\n",
    "        context, x  = inputs\n",
    "\n",
    "        context = self.encoder(context)  # (batch_size, context_len, d_model)\n",
    "\n",
    "        x = self.decoder(x, context)  # (batch_size, target_len, d_model)\n",
    "\n",
    "        # Final linear layer output.\n",
    "        logits = self.final_layer(x)  # (batch_size, target_len, target_vocab_size)\n",
    "\n",
    "        try:\n",
    "            # Drop the keras mask, so it doesn't scale the losses/metrics.\n",
    "            # b/250038731\n",
    "            del logits._keras_mask\n",
    "        except AttributeError:\n",
    "            pass\n",
    "\n",
    "        # Return the final output and the attention weights.\n",
    "        return logits"
   ]
  },
  {
   "cell_type": "code",
   "execution_count": 32,
   "id": "caf28522",
   "metadata": {
    "execution": {
     "iopub.execute_input": "2024-10-18T16:01:52.886110Z",
     "iopub.status.busy": "2024-10-18T16:01:52.885842Z",
     "iopub.status.idle": "2024-10-18T16:01:52.890289Z",
     "shell.execute_reply": "2024-10-18T16:01:52.889445Z"
    },
    "papermill": {
     "duration": 0.018912,
     "end_time": "2024-10-18T16:01:52.892314",
     "exception": false,
     "start_time": "2024-10-18T16:01:52.873402",
     "status": "completed"
    },
    "tags": []
   },
   "outputs": [],
   "source": [
    "num_layers = 4\n",
    "d_model = 128\n",
    "dff = 512\n",
    "num_heads = 8\n",
    "dropout_rate = 0.1\n",
    "vocab_size = 15000"
   ]
  },
  {
   "cell_type": "code",
   "execution_count": 33,
   "id": "ca562d5e",
   "metadata": {
    "execution": {
     "iopub.execute_input": "2024-10-18T16:01:52.916395Z",
     "iopub.status.busy": "2024-10-18T16:01:52.915922Z",
     "iopub.status.idle": "2024-10-18T16:01:53.069574Z",
     "shell.execute_reply": "2024-10-18T16:01:53.068607Z"
    },
    "papermill": {
     "duration": 0.168258,
     "end_time": "2024-10-18T16:01:53.071987",
     "exception": false,
     "start_time": "2024-10-18T16:01:52.903729",
     "status": "completed"
    },
    "tags": []
   },
   "outputs": [],
   "source": [
    "transformer = Transformer(\n",
    "    num_layers=num_layers,\n",
    "    d_model=d_model,\n",
    "    num_heads=num_heads,\n",
    "    dff=dff,\n",
    "    input_vocab_size=vocab_size,\n",
    "    target_vocab_size=vocab_size,\n",
    "    dropout_rate=dropout_rate)"
   ]
  },
  {
   "cell_type": "code",
   "execution_count": 34,
   "id": "af6ac34e",
   "metadata": {
    "execution": {
     "iopub.execute_input": "2024-10-18T16:01:53.096778Z",
     "iopub.status.busy": "2024-10-18T16:01:53.096423Z",
     "iopub.status.idle": "2024-10-18T16:01:53.103717Z",
     "shell.execute_reply": "2024-10-18T16:01:53.102843Z"
    },
    "papermill": {
     "duration": 0.02182,
     "end_time": "2024-10-18T16:01:53.105591",
     "exception": false,
     "start_time": "2024-10-18T16:01:53.083771",
     "status": "completed"
    },
    "tags": []
   },
   "outputs": [],
   "source": [
    "class CustomSchedule(tf.keras.optimizers.schedules.LearningRateSchedule):\n",
    "    def __init__(self, d_model, warmup_steps=4000):\n",
    "        super().__init__()\n",
    "\n",
    "        self.d_model = d_model\n",
    "        self.d_model = tf.cast(self.d_model, tf.float32)\n",
    "\n",
    "        self.warmup_steps = warmup_steps\n",
    "\n",
    "    def __call__(self, step):\n",
    "        step = tf.cast(step, dtype=tf.float32)\n",
    "        arg1 = tf.math.rsqrt(step)\n",
    "        arg2 = step * (self.warmup_steps ** -1.5)\n",
    "\n",
    "        return tf.math.rsqrt(self.d_model) * tf.math.minimum(arg1, arg2)\n",
    "\n",
    "    def get_config(self):\n",
    "        return {\n",
    "            'd_model': self.d_model.numpy(),\n",
    "            'warmup_steps': self.warmup_steps,\n",
    "        }"
   ]
  },
  {
   "cell_type": "code",
   "execution_count": 35,
   "id": "13b9b045",
   "metadata": {
    "execution": {
     "iopub.execute_input": "2024-10-18T16:01:53.129589Z",
     "iopub.status.busy": "2024-10-18T16:01:53.129311Z",
     "iopub.status.idle": "2024-10-18T16:01:53.138677Z",
     "shell.execute_reply": "2024-10-18T16:01:53.137997Z"
    },
    "papermill": {
     "duration": 0.023671,
     "end_time": "2024-10-18T16:01:53.140656",
     "exception": false,
     "start_time": "2024-10-18T16:01:53.116985",
     "status": "completed"
    },
    "tags": []
   },
   "outputs": [],
   "source": [
    "learning_rate = CustomSchedule(d_model)\n",
    "\n",
    "optimizer = tf.keras.optimizers.Adam(learning_rate, beta_1=0.9, beta_2=0.98,\n",
    "                                     epsilon=1e-9)"
   ]
  },
  {
   "cell_type": "code",
   "execution_count": 36,
   "id": "70628c03",
   "metadata": {
    "execution": {
     "iopub.execute_input": "2024-10-18T16:01:53.164905Z",
     "iopub.status.busy": "2024-10-18T16:01:53.164583Z",
     "iopub.status.idle": "2024-10-18T16:01:53.171942Z",
     "shell.execute_reply": "2024-10-18T16:01:53.171026Z"
    },
    "papermill": {
     "duration": 0.02174,
     "end_time": "2024-10-18T16:01:53.173927",
     "exception": false,
     "start_time": "2024-10-18T16:01:53.152187",
     "status": "completed"
    },
    "tags": []
   },
   "outputs": [],
   "source": [
    "def masked_loss(label, pred):\n",
    "    mask = label != 0\n",
    "    loss_object = tf.keras.losses.SparseCategoricalCrossentropy(\n",
    "    from_logits=True, reduction='none')\n",
    "    loss = loss_object(label, pred)\n",
    "\n",
    "    mask = tf.cast(mask, dtype=loss.dtype)\n",
    "    loss *= mask\n",
    "\n",
    "    loss = tf.reduce_sum(loss)/tf.reduce_sum(mask)\n",
    "    return loss\n",
    "\n",
    "\n",
    "def masked_accuracy(label, pred):\n",
    "    pred = tf.argmax(pred, axis=2)\n",
    "    label = tf.cast(label, pred.dtype)\n",
    "    match = label == pred\n",
    "\n",
    "    mask = label != 0\n",
    "\n",
    "    match = match & mask\n",
    "\n",
    "    match = tf.cast(match, dtype=tf.float32)\n",
    "    mask = tf.cast(mask, dtype=tf.float32)\n",
    "    return tf.reduce_sum(match)/tf.reduce_sum(mask)"
   ]
  },
  {
   "cell_type": "code",
   "execution_count": 37,
   "id": "87bf2d6a",
   "metadata": {
    "execution": {
     "iopub.execute_input": "2024-10-18T16:01:53.197937Z",
     "iopub.status.busy": "2024-10-18T16:01:53.197615Z",
     "iopub.status.idle": "2024-10-18T16:01:53.210643Z",
     "shell.execute_reply": "2024-10-18T16:01:53.209801Z"
    },
    "papermill": {
     "duration": 0.027362,
     "end_time": "2024-10-18T16:01:53.212673",
     "exception": false,
     "start_time": "2024-10-18T16:01:53.185311",
     "status": "completed"
    },
    "tags": []
   },
   "outputs": [],
   "source": [
    "transformer.compile(\n",
    "    loss=masked_loss,\n",
    "    optimizer=optimizer,\n",
    "    metrics=[masked_accuracy])"
   ]
  },
  {
   "cell_type": "code",
   "execution_count": 38,
   "id": "e1f47352",
   "metadata": {
    "execution": {
     "iopub.execute_input": "2024-10-18T16:01:53.236616Z",
     "iopub.status.busy": "2024-10-18T16:01:53.236317Z",
     "iopub.status.idle": "2024-10-18T16:01:53.241004Z",
     "shell.execute_reply": "2024-10-18T16:01:53.240136Z"
    },
    "papermill": {
     "duration": 0.018828,
     "end_time": "2024-10-18T16:01:53.242852",
     "exception": false,
     "start_time": "2024-10-18T16:01:53.224024",
     "status": "completed"
    },
    "tags": []
   },
   "outputs": [],
   "source": [
    "checkpoint = ModelCheckpoint(filepath='./model_checkpoint.keras',\n",
    "                             monitor='val_loss',\n",
    "                             save_best_only=True,\n",
    "                             save_weights_only=False,\n",
    "                             verbose=1)\n",
    "early_stopping = EarlyStopping(monitor='val_loss',\n",
    "                               patience=10,\n",
    "                               restore_best_weights=True,\n",
    "                               verbose=1)"
   ]
  },
  {
   "cell_type": "code",
   "execution_count": 39,
   "id": "308ad554",
   "metadata": {
    "execution": {
     "iopub.execute_input": "2024-10-18T16:01:53.267245Z",
     "iopub.status.busy": "2024-10-18T16:01:53.266712Z",
     "iopub.status.idle": "2024-10-18T16:35:57.966867Z",
     "shell.execute_reply": "2024-10-18T16:35:57.965860Z"
    },
    "papermill": {
     "duration": 2044.714914,
     "end_time": "2024-10-18T16:35:57.969250",
     "exception": false,
     "start_time": "2024-10-18T16:01:53.254336",
     "status": "completed"
    },
    "tags": []
   },
   "outputs": [
    {
     "name": "stdout",
     "output_type": "stream",
     "text": [
      "Epoch 1/100\n"
     ]
    },
    {
     "name": "stderr",
     "output_type": "stream",
     "text": [
      "/opt/conda/lib/python3.10/site-packages/keras/src/layers/layer.py:877: UserWarning: Layer 'query' (of type EinsumDense) was passed an input with a mask attached to it. However, this layer does not support masking and will therefore destroy the mask information. Downstream layers will not see the mask.\n",
      "  warnings.warn(\n",
      "/opt/conda/lib/python3.10/site-packages/keras/src/layers/layer.py:877: UserWarning: Layer 'key' (of type EinsumDense) was passed an input with a mask attached to it. However, this layer does not support masking and will therefore destroy the mask information. Downstream layers will not see the mask.\n",
      "  warnings.warn(\n",
      "/opt/conda/lib/python3.10/site-packages/keras/src/layers/layer.py:877: UserWarning: Layer 'value' (of type EinsumDense) was passed an input with a mask attached to it. However, this layer does not support masking and will therefore destroy the mask information. Downstream layers will not see the mask.\n",
      "  warnings.warn(\n",
      "/opt/conda/lib/python3.10/site-packages/keras/src/layers/layer.py:877: UserWarning: Layer 'global_self_attention' (of type GlobalSelfAttention) was passed an input with a mask attached to it. However, this layer does not support masking and will therefore destroy the mask information. Downstream layers will not see the mask.\n",
      "  warnings.warn(\n",
      "/opt/conda/lib/python3.10/site-packages/keras/src/layers/layer.py:877: UserWarning: Layer 'encoder_layer' (of type EncoderLayer) was passed an input with a mask attached to it. However, this layer does not support masking and will therefore destroy the mask information. Downstream layers will not see the mask.\n",
      "  warnings.warn(\n",
      "/opt/conda/lib/python3.10/site-packages/keras/src/layers/layer.py:877: UserWarning: Layer 'causal_self_attention' (of type CausalSelfAttention) was passed an input with a mask attached to it. However, this layer does not support masking and will therefore destroy the mask information. Downstream layers will not see the mask.\n",
      "  warnings.warn(\n",
      "/opt/conda/lib/python3.10/site-packages/keras/src/layers/layer.py:877: UserWarning: Layer 'decoder_layer' (of type DecoderLayer) was passed an input with a mask attached to it. However, this layer does not support masking and will therefore destroy the mask information. Downstream layers will not see the mask.\n",
      "  warnings.warn(\n",
      "WARNING: All log messages before absl::InitializeLog() is called are written to STDERR\n",
      "I0000 00:00:1729267342.959051     127 service.cc:145] XLA service 0x7f29b0001ba0 initialized for platform CUDA (this does not guarantee that XLA will be used). Devices:\n",
      "I0000 00:00:1729267342.959110     127 service.cc:153]   StreamExecutor device (0): Tesla P100-PCIE-16GB, Compute Capability 6.0\n",
      "W0000 00:00:1729267345.192925     127 assert_op.cc:38] Ignoring Assert operator compile_loss/masked_loss/sparse_categorical_crossentropy/SparseSoftmaxCrossEntropyWithLogits/assert_equal_1/Assert/Assert\n",
      "WARNING: All log messages before absl::InitializeLog() is called are written to STDERR\n",
      "I0000 00:00:1729267357.795469     127 asm_compiler.cc:369] ptxas warning : Registers are spilled to local memory in function 'loop_add_subtract_fusion_38', 224 bytes spill stores, 224 bytes spill loads\n",
      "\n",
      "I0000 00:00:1729267357.826256     127 device_compiler.h:188] Compiled cluster using XLA!  This line is logged at most once for the lifetime of the process.\n"
     ]
    },
    {
     "name": "stdout",
     "output_type": "stream",
     "text": [
      "\u001b[1m573/574\u001b[0m \u001b[32m━━━━━━━━━━━━━━━━━━━\u001b[0m\u001b[37m━\u001b[0m \u001b[1m0s\u001b[0m 175ms/step - loss: 8.8089 - masked_accuracy: 0.0423"
     ]
    },
    {
     "name": "stderr",
     "output_type": "stream",
     "text": [
      "W0000 00:00:1729267459.467554     127 assert_op.cc:38] Ignoring Assert operator compile_loss/masked_loss/sparse_categorical_crossentropy/SparseSoftmaxCrossEntropyWithLogits/assert_equal_1/Assert/Assert\n"
     ]
    },
    {
     "name": "stdout",
     "output_type": "stream",
     "text": [
      "\u001b[1m574/574\u001b[0m \u001b[32m━━━━━━━━━━━━━━━━━━━━\u001b[0m\u001b[37m\u001b[0m \u001b[1m0s\u001b[0m 195ms/step - loss: 8.8072 - masked_accuracy: 0.0423"
     ]
    },
    {
     "name": "stderr",
     "output_type": "stream",
     "text": [
      "W0000 00:00:1729267471.533584     128 assert_op.cc:38] Ignoring Assert operator compile_loss/masked_loss/sparse_categorical_crossentropy/SparseSoftmaxCrossEntropyWithLogits/assert_equal_1/Assert/Assert\n",
      "W0000 00:00:1729267476.937171     127 assert_op.cc:38] Ignoring Assert operator compile_loss/masked_loss/sparse_categorical_crossentropy/SparseSoftmaxCrossEntropyWithLogits/assert_equal_1/Assert/Assert\n"
     ]
    },
    {
     "name": "stdout",
     "output_type": "stream",
     "text": [
      "\n",
      "Epoch 1: val_loss improved from inf to 6.39253, saving model to ./model_checkpoint.keras\n",
      "\u001b[1m574/574\u001b[0m \u001b[32m━━━━━━━━━━━━━━━━━━━━\u001b[0m\u001b[37m\u001b[0m \u001b[1m169s\u001b[0m 217ms/step - loss: 8.8056 - masked_accuracy: 0.0424 - val_loss: 6.3925 - val_masked_accuracy: 0.0964\n",
      "Epoch 2/100\n",
      "\u001b[1m574/574\u001b[0m \u001b[32m━━━━━━━━━━━━━━━━━━━━\u001b[0m\u001b[37m\u001b[0m \u001b[1m0s\u001b[0m 174ms/step - loss: 5.9434 - masked_accuracy: 0.1470\n",
      "Epoch 2: val_loss improved from 6.39253 to 4.89602, saving model to ./model_checkpoint.keras\n",
      "\u001b[1m574/574\u001b[0m \u001b[32m━━━━━━━━━━━━━━━━━━━━\u001b[0m\u001b[37m\u001b[0m \u001b[1m105s\u001b[0m 183ms/step - loss: 5.9427 - masked_accuracy: 0.1470 - val_loss: 4.8960 - val_masked_accuracy: 0.2551\n",
      "Epoch 3/100\n",
      "\u001b[1m574/574\u001b[0m \u001b[32m━━━━━━━━━━━━━━━━━━━━\u001b[0m\u001b[37m\u001b[0m \u001b[1m0s\u001b[0m 174ms/step - loss: 4.6276 - masked_accuracy: 0.2757\n",
      "Epoch 3: val_loss improved from 4.89602 to 4.14736, saving model to ./model_checkpoint.keras\n",
      "\u001b[1m574/574\u001b[0m \u001b[32m━━━━━━━━━━━━━━━━━━━━\u001b[0m\u001b[37m\u001b[0m \u001b[1m105s\u001b[0m 183ms/step - loss: 4.6272 - masked_accuracy: 0.2757 - val_loss: 4.1474 - val_masked_accuracy: 0.3267\n",
      "Epoch 4/100\n",
      "\u001b[1m574/574\u001b[0m \u001b[32m━━━━━━━━━━━━━━━━━━━━\u001b[0m\u001b[37m\u001b[0m \u001b[1m0s\u001b[0m 174ms/step - loss: 3.8926 - masked_accuracy: 0.3496\n",
      "Epoch 4: val_loss improved from 4.14736 to 3.73185, saving model to ./model_checkpoint.keras\n",
      "\u001b[1m574/574\u001b[0m \u001b[32m━━━━━━━━━━━━━━━━━━━━\u001b[0m\u001b[37m\u001b[0m \u001b[1m105s\u001b[0m 183ms/step - loss: 3.8924 - masked_accuracy: 0.3496 - val_loss: 3.7318 - val_masked_accuracy: 0.3784\n",
      "Epoch 5/100\n",
      "\u001b[1m574/574\u001b[0m \u001b[32m━━━━━━━━━━━━━━━━━━━━\u001b[0m\u001b[37m\u001b[0m \u001b[1m0s\u001b[0m 174ms/step - loss: 3.3858 - masked_accuracy: 0.4071\n",
      "Epoch 5: val_loss improved from 3.73185 to 3.46847, saving model to ./model_checkpoint.keras\n",
      "\u001b[1m574/574\u001b[0m \u001b[32m━━━━━━━━━━━━━━━━━━━━\u001b[0m\u001b[37m\u001b[0m \u001b[1m105s\u001b[0m 183ms/step - loss: 3.3856 - masked_accuracy: 0.4071 - val_loss: 3.4685 - val_masked_accuracy: 0.4139\n",
      "Epoch 6/100\n",
      "\u001b[1m574/574\u001b[0m \u001b[32m━━━━━━━━━━━━━━━━━━━━\u001b[0m\u001b[37m\u001b[0m \u001b[1m0s\u001b[0m 174ms/step - loss: 3.0253 - masked_accuracy: 0.4510\n",
      "Epoch 6: val_loss improved from 3.46847 to 3.33446, saving model to ./model_checkpoint.keras\n",
      "\u001b[1m574/574\u001b[0m \u001b[32m━━━━━━━━━━━━━━━━━━━━\u001b[0m\u001b[37m\u001b[0m \u001b[1m105s\u001b[0m 183ms/step - loss: 3.0251 - masked_accuracy: 0.4510 - val_loss: 3.3345 - val_masked_accuracy: 0.4314\n",
      "Epoch 7/100\n",
      "\u001b[1m574/574\u001b[0m \u001b[32m━━━━━━━━━━━━━━━━━━━━\u001b[0m\u001b[37m\u001b[0m \u001b[1m0s\u001b[0m 174ms/step - loss: 2.7619 - masked_accuracy: 0.4824\n",
      "Epoch 7: val_loss improved from 3.33446 to 3.24306, saving model to ./model_checkpoint.keras\n",
      "\u001b[1m574/574\u001b[0m \u001b[32m━━━━━━━━━━━━━━━━━━━━\u001b[0m\u001b[37m\u001b[0m \u001b[1m105s\u001b[0m 183ms/step - loss: 2.7618 - masked_accuracy: 0.4825 - val_loss: 3.2431 - val_masked_accuracy: 0.4450\n",
      "Epoch 8/100\n",
      "\u001b[1m574/574\u001b[0m \u001b[32m━━━━━━━━━━━━━━━━━━━━\u001b[0m\u001b[37m\u001b[0m \u001b[1m0s\u001b[0m 174ms/step - loss: 2.5472 - masked_accuracy: 0.5111\n",
      "Epoch 8: val_loss improved from 3.24306 to 3.14704, saving model to ./model_checkpoint.keras\n",
      "\u001b[1m574/574\u001b[0m \u001b[32m━━━━━━━━━━━━━━━━━━━━\u001b[0m\u001b[37m\u001b[0m \u001b[1m105s\u001b[0m 183ms/step - loss: 2.5471 - masked_accuracy: 0.5111 - val_loss: 3.1470 - val_masked_accuracy: 0.4638\n",
      "Epoch 9/100\n",
      "\u001b[1m574/574\u001b[0m \u001b[32m━━━━━━━━━━━━━━━━━━━━\u001b[0m\u001b[37m\u001b[0m \u001b[1m0s\u001b[0m 174ms/step - loss: 2.2866 - masked_accuracy: 0.5470\n",
      "Epoch 9: val_loss improved from 3.14704 to 3.08773, saving model to ./model_checkpoint.keras\n",
      "\u001b[1m574/574\u001b[0m \u001b[32m━━━━━━━━━━━━━━━━━━━━\u001b[0m\u001b[37m\u001b[0m \u001b[1m105s\u001b[0m 183ms/step - loss: 2.2865 - masked_accuracy: 0.5470 - val_loss: 3.0877 - val_masked_accuracy: 0.4748\n",
      "Epoch 10/100\n",
      "\u001b[1m574/574\u001b[0m \u001b[32m━━━━━━━━━━━━━━━━━━━━\u001b[0m\u001b[37m\u001b[0m \u001b[1m0s\u001b[0m 174ms/step - loss: 2.0541 - masked_accuracy: 0.5813\n",
      "Epoch 10: val_loss did not improve from 3.08773\n",
      "\u001b[1m574/574\u001b[0m \u001b[32m━━━━━━━━━━━━━━━━━━━━\u001b[0m\u001b[37m\u001b[0m \u001b[1m104s\u001b[0m 181ms/step - loss: 2.0540 - masked_accuracy: 0.5814 - val_loss: 3.1532 - val_masked_accuracy: 0.4720\n",
      "Epoch 11/100\n",
      "\u001b[1m574/574\u001b[0m \u001b[32m━━━━━━━━━━━━━━━━━━━━\u001b[0m\u001b[37m\u001b[0m \u001b[1m0s\u001b[0m 174ms/step - loss: 1.8657 - masked_accuracy: 0.6102\n",
      "Epoch 11: val_loss did not improve from 3.08773\n",
      "\u001b[1m574/574\u001b[0m \u001b[32m━━━━━━━━━━━━━━━━━━━━\u001b[0m\u001b[37m\u001b[0m \u001b[1m104s\u001b[0m 181ms/step - loss: 1.8656 - masked_accuracy: 0.6102 - val_loss: 3.1807 - val_masked_accuracy: 0.4749\n",
      "Epoch 12/100\n",
      "\u001b[1m574/574\u001b[0m \u001b[32m━━━━━━━━━━━━━━━━━━━━\u001b[0m\u001b[37m\u001b[0m \u001b[1m0s\u001b[0m 174ms/step - loss: 1.6943 - masked_accuracy: 0.6367\n",
      "Epoch 12: val_loss did not improve from 3.08773\n",
      "\u001b[1m574/574\u001b[0m \u001b[32m━━━━━━━━━━━━━━━━━━━━\u001b[0m\u001b[37m\u001b[0m \u001b[1m104s\u001b[0m 181ms/step - loss: 1.6942 - masked_accuracy: 0.6367 - val_loss: 3.2224 - val_masked_accuracy: 0.4777\n",
      "Epoch 13/100\n",
      "\u001b[1m574/574\u001b[0m \u001b[32m━━━━━━━━━━━━━━━━━━━━\u001b[0m\u001b[37m\u001b[0m \u001b[1m0s\u001b[0m 174ms/step - loss: 1.5557 - masked_accuracy: 0.6591\n",
      "Epoch 13: val_loss did not improve from 3.08773\n",
      "\u001b[1m574/574\u001b[0m \u001b[32m━━━━━━━━━━━━━━━━━━━━\u001b[0m\u001b[37m\u001b[0m \u001b[1m104s\u001b[0m 180ms/step - loss: 1.5556 - masked_accuracy: 0.6591 - val_loss: 3.3354 - val_masked_accuracy: 0.4710\n",
      "Epoch 14/100\n",
      "\u001b[1m574/574\u001b[0m \u001b[32m━━━━━━━━━━━━━━━━━━━━\u001b[0m\u001b[37m\u001b[0m \u001b[1m0s\u001b[0m 174ms/step - loss: 1.4224 - masked_accuracy: 0.6815\n",
      "Epoch 14: val_loss did not improve from 3.08773\n",
      "\u001b[1m574/574\u001b[0m \u001b[32m━━━━━━━━━━━━━━━━━━━━\u001b[0m\u001b[37m\u001b[0m \u001b[1m104s\u001b[0m 181ms/step - loss: 1.4223 - masked_accuracy: 0.6815 - val_loss: 3.3880 - val_masked_accuracy: 0.4727\n",
      "Epoch 15/100\n",
      "\u001b[1m574/574\u001b[0m \u001b[32m━━━━━━━━━━━━━━━━━━━━\u001b[0m\u001b[37m\u001b[0m \u001b[1m0s\u001b[0m 174ms/step - loss: 1.2953 - masked_accuracy: 0.7032\n",
      "Epoch 15: val_loss did not improve from 3.08773\n",
      "\u001b[1m574/574\u001b[0m \u001b[32m━━━━━━━━━━━━━━━━━━━━\u001b[0m\u001b[37m\u001b[0m \u001b[1m104s\u001b[0m 181ms/step - loss: 1.2952 - masked_accuracy: 0.7032 - val_loss: 3.5107 - val_masked_accuracy: 0.4666\n",
      "Epoch 16/100\n",
      "\u001b[1m574/574\u001b[0m \u001b[32m━━━━━━━━━━━━━━━━━━━━\u001b[0m\u001b[37m\u001b[0m \u001b[1m0s\u001b[0m 174ms/step - loss: 1.1854 - masked_accuracy: 0.7219\n",
      "Epoch 16: val_loss did not improve from 3.08773\n",
      "\u001b[1m574/574\u001b[0m \u001b[32m━━━━━━━━━━━━━━━━━━━━\u001b[0m\u001b[37m\u001b[0m \u001b[1m104s\u001b[0m 180ms/step - loss: 1.1854 - masked_accuracy: 0.7220 - val_loss: 3.6013 - val_masked_accuracy: 0.4729\n",
      "Epoch 17/100\n",
      "\u001b[1m574/574\u001b[0m \u001b[32m━━━━━━━━━━━━━━━━━━━━\u001b[0m\u001b[37m\u001b[0m \u001b[1m0s\u001b[0m 174ms/step - loss: 1.0778 - masked_accuracy: 0.7424\n",
      "Epoch 17: val_loss did not improve from 3.08773\n",
      "\u001b[1m574/574\u001b[0m \u001b[32m━━━━━━━━━━━━━━━━━━━━\u001b[0m\u001b[37m\u001b[0m \u001b[1m104s\u001b[0m 180ms/step - loss: 1.0777 - masked_accuracy: 0.7425 - val_loss: 3.6600 - val_masked_accuracy: 0.4744\n",
      "Epoch 18/100\n",
      "\u001b[1m574/574\u001b[0m \u001b[32m━━━━━━━━━━━━━━━━━━━━\u001b[0m\u001b[37m\u001b[0m \u001b[1m0s\u001b[0m 174ms/step - loss: 0.9817 - masked_accuracy: 0.7607\n",
      "Epoch 18: val_loss did not improve from 3.08773\n",
      "\u001b[1m574/574\u001b[0m \u001b[32m━━━━━━━━━━━━━━━━━━━━\u001b[0m\u001b[37m\u001b[0m \u001b[1m104s\u001b[0m 181ms/step - loss: 0.9817 - masked_accuracy: 0.7608 - val_loss: 3.7623 - val_masked_accuracy: 0.4789\n",
      "Epoch 19/100\n",
      "\u001b[1m574/574\u001b[0m \u001b[32m━━━━━━━━━━━━━━━━━━━━\u001b[0m\u001b[37m\u001b[0m \u001b[1m0s\u001b[0m 174ms/step - loss: 0.8907 - masked_accuracy: 0.7782\n",
      "Epoch 19: val_loss did not improve from 3.08773\n",
      "\u001b[1m574/574\u001b[0m \u001b[32m━━━━━━━━━━━━━━━━━━━━\u001b[0m\u001b[37m\u001b[0m \u001b[1m104s\u001b[0m 181ms/step - loss: 0.8906 - masked_accuracy: 0.7782 - val_loss: 3.8490 - val_masked_accuracy: 0.4759\n",
      "Epoch 19: early stopping\n",
      "Restoring model weights from the end of the best epoch: 9.\n"
     ]
    }
   ],
   "source": [
    "history = transformer.fit(train_batches,\n",
    "                epochs=100,\n",
    "                validation_data=val_batches,\n",
    "                callbacks=[checkpoint, early_stopping])"
   ]
  },
  {
   "cell_type": "code",
   "execution_count": 40,
   "id": "3450a237",
   "metadata": {
    "execution": {
     "iopub.execute_input": "2024-10-18T16:35:59.806773Z",
     "iopub.status.busy": "2024-10-18T16:35:59.806367Z",
     "iopub.status.idle": "2024-10-18T16:36:00.615721Z",
     "shell.execute_reply": "2024-10-18T16:36:00.614923Z"
    },
    "papermill": {
     "duration": 1.752726,
     "end_time": "2024-10-18T16:36:00.617943",
     "exception": false,
     "start_time": "2024-10-18T16:35:58.865217",
     "status": "completed"
    },
    "tags": []
   },
   "outputs": [],
   "source": [
    "transformer.save('./transformer.keras')"
   ]
  },
  {
   "cell_type": "code",
   "execution_count": 41,
   "id": "dad095df",
   "metadata": {
    "execution": {
     "iopub.execute_input": "2024-10-18T16:36:02.439990Z",
     "iopub.status.busy": "2024-10-18T16:36:02.439594Z",
     "iopub.status.idle": "2024-10-18T16:36:03.411894Z",
     "shell.execute_reply": "2024-10-18T16:36:03.410927Z"
    },
    "papermill": {
     "duration": 1.909815,
     "end_time": "2024-10-18T16:36:03.414029",
     "exception": false,
     "start_time": "2024-10-18T16:36:01.504214",
     "status": "completed"
    },
    "tags": []
   },
   "outputs": [
    {
     "data": {
      "image/png": "[encoded data removed]",
      "text/plain": [
       "<Figure size 640x480 with 1 Axes>"
      ]
     },
     "metadata": {},
     "output_type": "display_data"
    },
    {
     "data": {
      "image/png": "[encoded data removed]",
      "text/plain": [
       "<Figure size 640x480 with 1 Axes>"
      ]
     },
     "metadata": {},
     "output_type": "display_data"
    }
   ],
   "source": [
    "plt.plot(history.history['masked_accuracy'])\n",
    "plt.plot(history.history['val_masked_accuracy'])\n",
    "plt.title('model accuracy')\n",
    "plt.ylabel('accuracy')\n",
    "plt.xlabel('epoch')\n",
    "plt.legend(['train', 'val'], loc='upper left')\n",
    "plt.show()\n",
    "\n",
    "plt.plot(history.history['loss'])\n",
    "plt.plot(history.history['val_loss'])\n",
    "plt.title('model loss')\n",
    "plt.ylabel('loss')\n",
    "plt.xlabel('epoch')\n",
    "plt.legend(['train', 'val'], loc='upper left')\n",
    "plt.show()"
   ]
  }
 ],
 "metadata": {
  "kaggle": {
   "accelerator": "gpu",
   "dataSources": [],
   "dockerImageVersionId": 30786,
   "isGpuEnabled": true,
   "isInternetEnabled": true,
   "language": "python",
   "sourceType": "notebook"
  },
  "kernelspec": {
   "display_name": "Python 3",
   "language": "python",
   "name": "python3"
  },
  "language_info": {
   "codemirror_mode": {
    "name": "ipython",
    "version": 3
   },
   "file_extension": ".py",
   "mimetype": "text/x-python",
   "name": "python",
   "nbconvert_exporter": "python",
   "pygments_lexer": "ipython3",
   "version": "3.10.14"
  },
  "papermill": {
   "default_parameters": {},
   "duration": 2111.868048,
   "end_time": "2024-10-18T16:36:07.907962",
   "environment_variables": {},
   "exception": null,
   "input_path": "__notebook__.ipynb",
   "output_path": "__notebook__.ipynb",
   "parameters": {},
   "start_time": "2024-10-18T16:00:56.039914",
   "version": "2.6.0"
  }
 },
 "nbformat": 4,
 "nbformat_minor": 5
}
