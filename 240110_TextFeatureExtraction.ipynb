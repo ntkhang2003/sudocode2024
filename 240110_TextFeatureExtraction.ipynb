{
 "cells": [
  {
   "cell_type": "markdown",
   "id": "bba315dc",
   "metadata": {
    "papermill": {
     "duration": 0.01171,
     "end_time": "2024-09-21T07:07:20.568750",
     "exception": false,
     "start_time": "2024-09-21T07:07:20.557040",
     "status": "completed"
    },
    "tags": []
   },
   "source": [
    "# Import libraries"
   ]
  },
  {
   "cell_type": "code",
   "execution_count": 1,
   "id": "9188113c",
   "metadata": {
    "execution": {
     "iopub.execute_input": "2024-09-21T07:07:20.591755Z",
     "iopub.status.busy": "2024-09-21T07:07:20.591265Z",
     "iopub.status.idle": "2024-09-21T07:07:22.679992Z",
     "shell.execute_reply": "2024-09-21T07:07:22.678737Z"
    },
    "papermill": {
     "duration": 2.103686,
     "end_time": "2024-09-21T07:07:22.683135",
     "exception": false,
     "start_time": "2024-09-21T07:07:20.579449",
     "status": "completed"
    },
    "tags": []
   },
   "outputs": [],
   "source": [
    "import nltk, re, pprint\n",
    "from nltk import word_tokenize\n",
    "import gc"
   ]
  },
  {
   "cell_type": "markdown",
   "id": "61fa42e9",
   "metadata": {
    "papermill": {
     "duration": 0.010378,
     "end_time": "2024-09-21T07:07:22.704425",
     "exception": false,
     "start_time": "2024-09-21T07:07:22.694047",
     "status": "completed"
    },
    "tags": []
   },
   "source": [
    "# Read data"
   ]
  },
  {
   "cell_type": "code",
   "execution_count": 2,
   "id": "cc081838",
   "metadata": {
    "_cell_guid": "b1076dfc-b9ad-4769-8c92-a6c4dae69d19",
    "_uuid": "8f2839f25d086af736a60e9eeb907d3b93b6e0e5",
    "execution": {
     "iopub.execute_input": "2024-09-21T07:07:22.728455Z",
     "iopub.status.busy": "2024-09-21T07:07:22.727799Z",
     "iopub.status.idle": "2024-09-21T07:07:41.552004Z",
     "shell.execute_reply": "2024-09-21T07:07:41.550874Z"
    },
    "papermill": {
     "duration": 18.839911,
     "end_time": "2024-09-21T07:07:41.555124",
     "exception": false,
     "start_time": "2024-09-21T07:07:22.715213",
     "status": "completed"
    },
    "tags": []
   },
   "outputs": [],
   "source": [
    "import json\n",
    "DATA_PATH = '/kaggle/input/vietnamese-online-news-dataset/news_dataset.json'\n",
    "\n",
    "with open(DATA_PATH, 'r') as f:\n",
    "    raw = json.load(f)"
   ]
  },
  {
   "cell_type": "code",
   "execution_count": 3,
   "id": "ebb92ed4",
   "metadata": {
    "execution": {
     "iopub.execute_input": "2024-09-21T07:07:41.578207Z",
     "iopub.status.busy": "2024-09-21T07:07:41.577773Z",
     "iopub.status.idle": "2024-09-21T07:07:41.587221Z",
     "shell.execute_reply": "2024-09-21T07:07:41.586094Z"
    },
    "papermill": {
     "duration": 0.023731,
     "end_time": "2024-09-21T07:07:41.589715",
     "exception": false,
     "start_time": "2024-09-21T07:07:41.565984",
     "status": "completed"
    },
    "tags": []
   },
   "outputs": [
    {
     "data": {
      "text/plain": [
       "{'id': 218270,\n",
       " 'author': '',\n",
       " 'content': \"Chiều 31/7, Công an tỉnh Thừa Thiên - Huế đã có thông tin ban đầu về vụ nổ súng,cướp tiệm vàng tại chợ Đông Ba nằm trên đường Trần Hưng Đạo (TP Huế, tỉnh Thừa Thiên - Huế). Thông Sài Gòn Giải Phóng, khoảng 12h30' ngày 31/7, một đối tượng sử dụng súng AK bất ngờ xông vào tiệm vàng Hoàng Đức và Thái Lợi (phía trước chợ Đông Ba) rồi nổ súng chỉ thiên liên tiếp uy hiếp chủ tiệm để cướp vàng. Sau đó, đối tượng mang số vàng vừa cướp được vứt ra vỉa hè rồi đi bộ đến khu vực cầu Gia Hội, cách khu vực gây án khoảng 300m. Giám đốc Công an tỉnh Thừa Thiên – Huế lập tức trực tiếp chỉ đạo các lực lượng chức năng gồm Công an tỉnh và Công an TP Huế nhanh chóng có mặt tại hiện trường triển khai đồng bộ các biện pháp nghiệp vụ, khoanh vùng và ngăn không để người dân đi vào hiện trường. Hàng trăm tiểu thương trong chợ Đông Ba và người dân gần cầu Gia Hội được yêu cầu di chuyển khỏi hiện trường, đóng cửa nhà đề phòng đạn lạc. Tuy nhiên, thấy vàng bị ném ra đường, nhiều người đua nhau nhặt, tạo cảnh nhốn nháo trước cổng chợ. Do đây là khu vực trung tâm TP Huế, đông dân nên để đảm bảo an toàn cho người dân, lực lượng công an đã tìm cách hướng đối tượng ra nhà lục giác tại khu vực Công viên Trịnh Công Sơn (cạnh cầu Gia Hội). Lúc này, đối tượng có biểu hiện kích động muốn tự tử nên Đại tá Phạm Văn Toàn, Trưởng Phòng Cảnh sát hình sự Công an tỉnh Thừa Thiên – Huế và một số đồng chí Công an khác trực tiếp tiếp cận, thuyết phục đối tượng. Đối tượng lại yêu cầu được nói chuyện với Đại tá Đặng Ngọc Sơn, Phó Giám đốc Công an tỉnh. Ngay sau đó, khi được Đại tá Đặng Ngọc Sơn gặp gỡ, động viên, thuyết phục, đối tượng đã đồng ý hạ và giao nộp vũ khí. Theo VnExpress cho biết, tên cướp là Ngô Văn Quốc, 38 tuổi, quân hàm đại úy, công tác tại Trại giam Bình Điền, đóng ở xã Bình Tiến, thị xã Hương Trà. Khẩu súng gây án đã bị thu giữ. Hiện trường hai tiệm vàng bị phong tỏa để công an khám nghiệm. Phía trong nhiều mảnh kính bị vỡ văng vãi khắp nơi. Đông Ba là chợ nổi tiếng và sầm uất nhất TP Huế, nằm bên bờ bắc sông Hương, trên đường Trần Hưng Đạo. Nơi đây thu hút nhiều du khách trong và ngoài nước trong hành trình du lịch Huế. Theo MT (2sao/VietNamNet) https://2sao.vn/ten-cuop-tiem-vang-tai-hue-la-dai-uy-cong-an-cong-tac-tai-trai-giam-n-315312.html Trang Thông tin điện tử Docbao.vn Công ty Cổ phần Quang Minh Việt Nam Giấy phép thiết lập Trang thông tin điện tử tổng hợp trên Internet số 2372/GP-STTTT cấp ngày 29/8/2014. SĐT: 024. 666.40816 Địa chỉ: P604, Tầng 6, Tòa nhà Golden Field, Khu đô thị mới Mỹ Đình 1, phường Cầu Diễn, quận Nam Từ Liêm, Hà Nội Chịu trách nhiệm nội dung: Điều Thị Bích; ĐT: 0903.263.198; Email: docbao@kib.vn Đọc báo trực tuyến hiện tại chỉ sử dụng tên miền duy nhất là docbao.vn; độc giả lưu ý tránh nhầm lẫn. Chính sách bảo mật RSS\",\n",
       " 'picture_count': 3,\n",
       " 'processed': 0,\n",
       " 'source': 'docbao.vn',\n",
       " 'title': 'Tên cướp tiệm vàng tại Huế là đại uý công an, công tác tại Trại giam',\n",
       " 'topic': 'Pháp luật',\n",
       " 'url': 'https://docbao.vn/phap-luat/ten-cuop-tiem-vang-tai-hue-la-dai-uy-cong-an-cong-tac-tai-trai-giam-tintuc834608',\n",
       " 'crawled_at': '2022-08-01 09:09:22.817308'}"
      ]
     },
     "execution_count": 3,
     "metadata": {},
     "output_type": "execute_result"
    }
   ],
   "source": [
    "raw[0]"
   ]
  },
  {
   "cell_type": "code",
   "execution_count": 4,
   "id": "74754ea0",
   "metadata": {
    "execution": {
     "iopub.execute_input": "2024-09-21T07:07:41.613271Z",
     "iopub.status.busy": "2024-09-21T07:07:41.612861Z",
     "iopub.status.idle": "2024-09-21T07:07:41.620178Z",
     "shell.execute_reply": "2024-09-21T07:07:41.618988Z"
    },
    "papermill": {
     "duration": 0.02191,
     "end_time": "2024-09-21T07:07:41.622491",
     "exception": false,
     "start_time": "2024-09-21T07:07:41.600581",
     "status": "completed"
    },
    "tags": []
   },
   "outputs": [
    {
     "data": {
      "text/plain": [
       "184539"
      ]
     },
     "execution_count": 4,
     "metadata": {},
     "output_type": "execute_result"
    }
   ],
   "source": [
    "len(raw)"
   ]
  },
  {
   "cell_type": "code",
   "execution_count": 5,
   "id": "ee37e2fd",
   "metadata": {
    "execution": {
     "iopub.execute_input": "2024-09-21T07:07:41.646269Z",
     "iopub.status.busy": "2024-09-21T07:07:41.645827Z",
     "iopub.status.idle": "2024-09-21T07:07:41.723752Z",
     "shell.execute_reply": "2024-09-21T07:07:41.722412Z"
    },
    "papermill": {
     "duration": 0.093114,
     "end_time": "2024-09-21T07:07:41.726569",
     "exception": false,
     "start_time": "2024-09-21T07:07:41.633455",
     "status": "completed"
    },
    "tags": []
   },
   "outputs": [
    {
     "data": {
      "text/plain": [
       "\"Chiều 31/7, Công an tỉnh Thừa Thiên - Huế đã có thông tin ban đầu về vụ nổ súng,cướp tiệm vàng tại chợ Đông Ba nằm trên đường Trần Hưng Đạo (TP Huế, tỉnh Thừa Thiên - Huế). Thông Sài Gòn Giải Phóng, khoảng 12h30' ngày 31/7, một đối tượng sử dụng súng AK bất ngờ xông vào tiệm vàng Hoàng Đức và Thái Lợi (phía trước chợ Đông Ba) rồi nổ súng chỉ thiên liên tiếp uy hiếp chủ tiệm để cướp vàng. Sau đó, đối tượng mang số vàng vừa cướp được vứt ra vỉa hè rồi đi bộ đến khu vực cầu Gia Hội, cách khu vực gây án khoảng 300m. Giám đốc Công an tỉnh Thừa Thiên – Huế lập tức trực tiếp chỉ đạo các lực lượng chức năng gồm Công an tỉnh và Công an TP Huế nhanh chóng có mặt tại hiện trường triển khai đồng bộ các biện pháp nghiệp vụ, khoanh vùng và ngăn không để người dân đi vào hiện trường. Hàng trăm tiểu thương trong chợ Đông Ba và người dân gần cầu Gia Hội được yêu cầu di chuyển khỏi hiện trường, đóng cửa nhà đề phòng đạn lạc. Tuy nhiên, thấy vàng bị ném ra đường, nhiều người đua nhau nhặt, tạo cảnh nhốn nháo trước cổng chợ. Do đây là khu vực trung tâm TP Huế, đông dân nên để đảm bảo an toàn cho người dân, lực lượng công an đã tìm cách hướng đối tượng ra nhà lục giác tại khu vực Công viên Trịnh Công Sơn (cạnh cầu Gia Hội). Lúc này, đối tượng có biểu hiện kích động muốn tự tử nên Đại tá Phạm Văn Toàn, Trưởng Phòng Cảnh sát hình sự Công an tỉnh Thừa Thiên – Huế và một số đồng chí Công an khác trực tiếp tiếp cận, thuyết phục đối tượng. Đối tượng lại yêu cầu được nói chuyện với Đại tá Đặng Ngọc Sơn, Phó Giám đốc Công an tỉnh. Ngay sau đó, khi được Đại tá Đặng Ngọc Sơn gặp gỡ, động viên, thuyết phục, đối tượng đã đồng ý hạ và giao nộp vũ khí. Theo VnExpress cho biết, tên cướp là Ngô Văn Quốc, 38 tuổi, quân hàm đại úy, công tác tại Trại giam Bình Điền, đóng ở xã Bình Tiến, thị xã Hương Trà. Khẩu súng gây án đã bị thu giữ. Hiện trường hai tiệm vàng bị phong tỏa để công an khám nghiệm. Phía trong nhiều mảnh kính bị vỡ văng vãi khắp nơi. Đông Ba là chợ nổi tiếng và sầm uất nhất TP Huế, nằm bên bờ bắc sông Hương, trên đường Trần Hưng Đạo. Nơi đây thu hút nhiều du khách trong và ngoài nước trong hành trình du lịch Huế. Theo MT (2sao/VietNamNet) https://2sao.vn/ten-cuop-tiem-vang-tai-hue-la-dai-uy-cong-an-cong-tac-tai-trai-giam-n-315312.html Trang Thông tin điện tử Docbao.vn Công ty Cổ phần Quang Minh Việt Nam Giấy phép thiết lập Trang thông tin điện tử tổng hợp trên Internet số 2372/GP-STTTT cấp ngày 29/8/2014. SĐT: 024. 666.40816 Địa chỉ: P604, Tầng 6, Tòa nhà Golden Field, Khu đô thị mới Mỹ Đình 1, phường Cầu Diễn, quận Nam Từ Liêm, Hà Nội Chịu trách nhiệm nội dung: Điều Thị Bích; ĐT: 0903.263.198; Email: docbao@kib.vn Đọc báo trực tuyến hiện tại chỉ sử dụng tên miền duy nhất là docbao.vn; độc giả lưu ý tránh nhầm lẫn. Chính sách bảo mật RSS\""
      ]
     },
     "execution_count": 5,
     "metadata": {},
     "output_type": "execute_result"
    }
   ],
   "source": [
    "raw_content = []\n",
    "for item in raw:\n",
    "    raw_content.append(item['content'])\n",
    "raw_content[0]"
   ]
  },
  {
   "cell_type": "markdown",
   "id": "c713ca34",
   "metadata": {
    "papermill": {
     "duration": 0.011096,
     "end_time": "2024-09-21T07:07:41.749293",
     "exception": false,
     "start_time": "2024-09-21T07:07:41.738197",
     "status": "completed"
    },
    "tags": []
   },
   "source": [
    "# Preprocess data"
   ]
  },
  {
   "cell_type": "code",
   "execution_count": 6,
   "id": "a5a2ef6b",
   "metadata": {
    "execution": {
     "iopub.execute_input": "2024-09-21T07:07:41.773785Z",
     "iopub.status.busy": "2024-09-21T07:07:41.773313Z",
     "iopub.status.idle": "2024-09-21T07:07:41.781456Z",
     "shell.execute_reply": "2024-09-21T07:07:41.780111Z"
    },
    "papermill": {
     "duration": 0.023713,
     "end_time": "2024-09-21T07:07:41.784308",
     "exception": false,
     "start_time": "2024-09-21T07:07:41.760595",
     "status": "completed"
    },
    "scrolled": true,
    "tags": []
   },
   "outputs": [],
   "source": [
    "# function to normalize text\n",
    "def normalize_text(text):\n",
    "    # remove html\n",
    "    clean_text = re.sub(r'<[^>]*>', '', text)\n",
    "    \n",
    "    # remove ads\n",
    "    # method 1\n",
    "    clean_text = clean_text.replace('(adsbygoogle = window.adsbygoogle || []).push({});', '')\n",
    "    # method 2\n",
    "    # cleaned_text = re.sub(r'\\(.*?\\|\\|\\s*\\[\\s*\\].*?\\{\\s*\\}\\s*\\);', '', clean_text)\n",
    "    \n",
    "    # remove http\n",
    "    clean_text = re.sub(r'Nguồn:\\s*http?:\\/\\/\\S+', '', clean_text)\n",
    "    clean_text = re.sub(r'http\\S*', '', clean_text)\n",
    "    \n",
    "    # lowercase\n",
    "    clean_text = clean_text.lower()\n",
    "    \n",
    "    # remove punctuation\n",
    "    clean_text = re.sub(r'[^\\w\\s/]', ' ', clean_text)\n",
    "    \n",
    "    # remove white space\n",
    "    clean_text = re.sub(r'\\s+', ' ', clean_text).strip()\n",
    "    return clean_text"
   ]
  },
  {
   "cell_type": "code",
   "execution_count": 7,
   "id": "06c2162c",
   "metadata": {
    "execution": {
     "iopub.execute_input": "2024-09-21T07:07:41.809079Z",
     "iopub.status.busy": "2024-09-21T07:07:41.808611Z",
     "iopub.status.idle": "2024-09-21T07:09:04.091581Z",
     "shell.execute_reply": "2024-09-21T07:09:04.090323Z"
    },
    "papermill": {
     "duration": 82.310209,
     "end_time": "2024-09-21T07:09:04.105853",
     "exception": false,
     "start_time": "2024-09-21T07:07:41.795644",
     "status": "completed"
    },
    "tags": []
   },
   "outputs": [
    {
     "data": {
      "text/plain": [
       "'chiều 31/7 công an tỉnh thừa thiên huế đã có thông tin ban đầu về vụ nổ súng cướp tiệm vàng tại chợ đông ba nằm trên đường trần hưng đạo tp huế tỉnh thừa thiên huế thông sài gòn giải phóng khoảng 12h30 ngày 31/7 một đối tượng sử dụng súng ak bất ngờ xông vào tiệm vàng hoàng đức và thái lợi phía trước chợ đông ba rồi nổ súng chỉ thiên liên tiếp uy hiếp chủ tiệm để cướp vàng sau đó đối tượng mang số vàng vừa cướp được vứt ra vỉa hè rồi đi bộ đến khu vực cầu gia hội cách khu vực gây án khoảng 300m giám đốc công an tỉnh thừa thiên huế lập tức trực tiếp chỉ đạo các lực lượng chức năng gồm công an tỉnh và công an tp huế nhanh chóng có mặt tại hiện trường triển khai đồng bộ các biện pháp nghiệp vụ khoanh vùng và ngăn không để người dân đi vào hiện trường hàng trăm tiểu thương trong chợ đông ba và người dân gần cầu gia hội được yêu cầu di chuyển khỏi hiện trường đóng cửa nhà đề phòng đạn lạc tuy nhiên thấy vàng bị ném ra đường nhiều người đua nhau nhặt tạo cảnh nhốn nháo trước cổng chợ do đây là khu vực trung tâm tp huế đông dân nên để đảm bảo an toàn cho người dân lực lượng công an đã tìm cách hướng đối tượng ra nhà lục giác tại khu vực công viên trịnh công sơn cạnh cầu gia hội lúc này đối tượng có biểu hiện kích động muốn tự tử nên đại tá phạm văn toàn trưởng phòng cảnh sát hình sự công an tỉnh thừa thiên huế và một số đồng chí công an khác trực tiếp tiếp cận thuyết phục đối tượng đối tượng lại yêu cầu được nói chuyện với đại tá đặng ngọc sơn phó giám đốc công an tỉnh ngay sau đó khi được đại tá đặng ngọc sơn gặp gỡ động viên thuyết phục đối tượng đã đồng ý hạ và giao nộp vũ khí theo vnexpress cho biết tên cướp là ngô văn quốc 38 tuổi quân hàm đại úy công tác tại trại giam bình điền đóng ở xã bình tiến thị xã hương trà khẩu súng gây án đã bị thu giữ hiện trường hai tiệm vàng bị phong tỏa để công an khám nghiệm phía trong nhiều mảnh kính bị vỡ văng vãi khắp nơi đông ba là chợ nổi tiếng và sầm uất nhất tp huế nằm bên bờ bắc sông hương trên đường trần hưng đạo nơi đây thu hút nhiều du khách trong và ngoài nước trong hành trình du lịch huế theo mt 2sao/vietnamnet trang thông tin điện tử docbao vn công ty cổ phần quang minh việt nam giấy phép thiết lập trang thông tin điện tử tổng hợp trên internet số 2372/gp stttt cấp ngày 29/8/2014 sđt 024 666 40816 địa chỉ p604 tầng 6 tòa nhà golden field khu đô thị mới mỹ đình 1 phường cầu diễn quận nam từ liêm hà nội chịu trách nhiệm nội dung điều thị bích đt 0903 263 198 email docbao kib vn đọc báo trực tuyến hiện tại chỉ sử dụng tên miền duy nhất là docbao vn độc giả lưu ý tránh nhầm lẫn chính sách bảo mật rss'"
      ]
     },
     "execution_count": 7,
     "metadata": {},
     "output_type": "execute_result"
    }
   ],
   "source": [
    "clean_content = []\n",
    "for item in raw_content:\n",
    "    clean_content.append(normalize_text(item))\n",
    "clean_content[0]"
   ]
  },
  {
   "cell_type": "code",
   "execution_count": 8,
   "id": "36fd4ce6",
   "metadata": {
    "execution": {
     "iopub.execute_input": "2024-09-21T07:09:04.129876Z",
     "iopub.status.busy": "2024-09-21T07:09:04.129407Z",
     "iopub.status.idle": "2024-09-21T07:09:22.534367Z",
     "shell.execute_reply": "2024-09-21T07:09:22.533075Z"
    },
    "papermill": {
     "duration": 18.420173,
     "end_time": "2024-09-21T07:09:22.537158",
     "exception": false,
     "start_time": "2024-09-21T07:09:04.116985",
     "status": "completed"
    },
    "tags": []
   },
   "outputs": [],
   "source": [
    "!pip install -q underthesea"
   ]
  },
  {
   "cell_type": "code",
   "execution_count": 9,
   "id": "f27a05cb",
   "metadata": {
    "execution": {
     "iopub.execute_input": "2024-09-21T07:09:22.562439Z",
     "iopub.status.busy": "2024-09-21T07:09:22.561633Z",
     "iopub.status.idle": "2024-09-21T09:54:37.435703Z",
     "shell.execute_reply": "2024-09-21T09:54:37.434340Z"
    },
    "papermill": {
     "duration": 9914.902219,
     "end_time": "2024-09-21T09:54:37.450716",
     "exception": false,
     "start_time": "2024-09-21T07:09:22.548497",
     "status": "completed"
    },
    "tags": []
   },
   "outputs": [
    {
     "data": {
      "text/plain": [
       "['chiều',\n",
       " '31/7',\n",
       " 'công_an',\n",
       " 'tỉnh',\n",
       " 'thừa',\n",
       " 'thiên_huế',\n",
       " 'đã',\n",
       " 'có',\n",
       " 'thông_tin',\n",
       " 'ban_đầu',\n",
       " 'về',\n",
       " 'vụ',\n",
       " 'nổ_súng',\n",
       " 'cướp',\n",
       " 'tiệm',\n",
       " 'vàng',\n",
       " 'tại',\n",
       " 'chợ',\n",
       " 'đông',\n",
       " 'ba',\n",
       " 'nằm',\n",
       " 'trên',\n",
       " 'đường',\n",
       " 'trần_hưng_đạo',\n",
       " 'tp',\n",
       " 'huế',\n",
       " 'tỉnh',\n",
       " 'thừa',\n",
       " 'thiên_huế',\n",
       " 'thông_sài',\n",
       " 'gòn',\n",
       " 'giải_phóng',\n",
       " 'khoảng',\n",
       " '12',\n",
       " 'h30',\n",
       " 'ngày',\n",
       " '31/7',\n",
       " 'một',\n",
       " 'đối_tượng',\n",
       " 'sử_dụng',\n",
       " 'súng',\n",
       " 'ak',\n",
       " 'bất_ngờ',\n",
       " 'xông',\n",
       " 'vào',\n",
       " 'tiệm',\n",
       " 'vàng',\n",
       " 'hoàng_đức',\n",
       " 'và',\n",
       " 'thái_lợi',\n",
       " 'phía',\n",
       " 'trước',\n",
       " 'chợ',\n",
       " 'đông',\n",
       " 'ba',\n",
       " 'rồi',\n",
       " 'nổ_súng',\n",
       " 'chỉ_thiên',\n",
       " 'liên_tiếp',\n",
       " 'uy_hiếp',\n",
       " 'chủ',\n",
       " 'tiệm',\n",
       " 'để',\n",
       " 'cướp',\n",
       " 'vàng',\n",
       " 'sau',\n",
       " 'đó',\n",
       " 'đối_tượng',\n",
       " 'mang',\n",
       " 'số',\n",
       " 'vàng',\n",
       " 'vừa',\n",
       " 'cướp',\n",
       " 'được',\n",
       " 'vứt',\n",
       " 'ra',\n",
       " 'vỉa_hè',\n",
       " 'rồi',\n",
       " 'đi',\n",
       " 'bộ',\n",
       " 'đến',\n",
       " 'khu_vực',\n",
       " 'cầu',\n",
       " 'gia_hội',\n",
       " 'cách',\n",
       " 'khu_vực',\n",
       " 'gây',\n",
       " 'án',\n",
       " 'khoảng',\n",
       " '300',\n",
       " 'm',\n",
       " 'giám_đốc',\n",
       " 'công_an',\n",
       " 'tỉnh',\n",
       " 'thừa',\n",
       " 'thiên_huế',\n",
       " 'lập_tức',\n",
       " 'trực_tiếp',\n",
       " 'chỉ_đạo',\n",
       " 'các',\n",
       " 'lực_lượng',\n",
       " 'chức_năng',\n",
       " 'gồm',\n",
       " 'công_an',\n",
       " 'tỉnh',\n",
       " 'và',\n",
       " 'công_an',\n",
       " 'tp',\n",
       " 'huế',\n",
       " 'nhanh_chóng',\n",
       " 'có_mặt',\n",
       " 'tại',\n",
       " 'hiện_trường',\n",
       " 'triển_khai',\n",
       " 'đồng_bộ',\n",
       " 'các',\n",
       " 'biện_pháp',\n",
       " 'nghiệp_vụ',\n",
       " 'khoanh',\n",
       " 'vùng',\n",
       " 'và',\n",
       " 'ngăn',\n",
       " 'không',\n",
       " 'để',\n",
       " 'người_dân',\n",
       " 'đi',\n",
       " 'vào',\n",
       " 'hiện_trường',\n",
       " 'hàng',\n",
       " 'trăm',\n",
       " 'tiểu_thương',\n",
       " 'trong',\n",
       " 'chợ',\n",
       " 'đông',\n",
       " 'ba',\n",
       " 'và',\n",
       " 'người_dân',\n",
       " 'gần',\n",
       " 'cầu',\n",
       " 'gia_hội',\n",
       " 'được',\n",
       " 'yêu_cầu',\n",
       " 'di_chuyển',\n",
       " 'khỏi',\n",
       " 'hiện_trường',\n",
       " 'đóng_cửa',\n",
       " 'nhà',\n",
       " 'đề_phòng',\n",
       " 'đạn_lạc',\n",
       " 'tuy_nhiên',\n",
       " 'thấy',\n",
       " 'vàng',\n",
       " 'bị',\n",
       " 'ném',\n",
       " 'ra',\n",
       " 'đường',\n",
       " 'nhiều',\n",
       " 'người',\n",
       " 'đua',\n",
       " 'nhau',\n",
       " 'nhặt',\n",
       " 'tạo',\n",
       " 'cảnh',\n",
       " 'nhốn_nháo',\n",
       " 'trước',\n",
       " 'cổng',\n",
       " 'chợ',\n",
       " 'do',\n",
       " 'đây',\n",
       " 'là',\n",
       " 'khu_vực',\n",
       " 'trung_tâm',\n",
       " 'tp',\n",
       " 'huế',\n",
       " 'đông',\n",
       " 'dân',\n",
       " 'nên',\n",
       " 'để',\n",
       " 'đảm_bảo',\n",
       " 'an_toàn',\n",
       " 'cho',\n",
       " 'người_dân',\n",
       " 'lực_lượng',\n",
       " 'công_an',\n",
       " 'đã',\n",
       " 'tìm',\n",
       " 'cách',\n",
       " 'hướng',\n",
       " 'đối_tượng',\n",
       " 'ra',\n",
       " 'nhà',\n",
       " 'lục_giác',\n",
       " 'tại',\n",
       " 'khu_vực',\n",
       " 'công_viên',\n",
       " 'trịnh_công',\n",
       " 'sơn',\n",
       " 'cạnh',\n",
       " 'cầu',\n",
       " 'gia_hội',\n",
       " 'lúc',\n",
       " 'này',\n",
       " 'đối_tượng',\n",
       " 'có',\n",
       " 'biểu_hiện',\n",
       " 'kích_động',\n",
       " 'muốn',\n",
       " 'tự_tử',\n",
       " 'nên',\n",
       " 'đại_tá',\n",
       " 'phạm_văn',\n",
       " 'toàn',\n",
       " 'trưởng',\n",
       " 'phòng',\n",
       " 'cảnh_sát',\n",
       " 'hình_sự',\n",
       " 'công_an',\n",
       " 'tỉnh',\n",
       " 'thừa',\n",
       " 'thiên_huế',\n",
       " 'và',\n",
       " 'một_số',\n",
       " 'đồng_chí',\n",
       " 'công_an',\n",
       " 'khác',\n",
       " 'trực_tiếp',\n",
       " 'tiếp_cận',\n",
       " 'thuyết_phục',\n",
       " 'đối_tượng',\n",
       " 'đối_tượng',\n",
       " 'lại',\n",
       " 'yêu_cầu',\n",
       " 'được',\n",
       " 'nói_chuyện',\n",
       " 'với',\n",
       " 'đại_tá',\n",
       " 'đặng_ngọc_sơn',\n",
       " 'phó',\n",
       " 'giám_đốc',\n",
       " 'công_an',\n",
       " 'tỉnh',\n",
       " 'ngay',\n",
       " 'sau',\n",
       " 'đó',\n",
       " 'khi',\n",
       " 'được',\n",
       " 'đại_tá',\n",
       " 'đặng_ngọc_sơn',\n",
       " 'gặp_gỡ',\n",
       " 'động_viên',\n",
       " 'thuyết_phục',\n",
       " 'đối_tượng',\n",
       " 'đã',\n",
       " 'đồng_ý',\n",
       " 'hạ',\n",
       " 'và',\n",
       " 'giao_nộp',\n",
       " 'vũ_khí',\n",
       " 'theo',\n",
       " 'vnexpress',\n",
       " 'cho',\n",
       " 'biết',\n",
       " 'tên',\n",
       " 'cướp',\n",
       " 'là',\n",
       " 'ngô',\n",
       " 'văn_quốc',\n",
       " '38',\n",
       " 'tuổi',\n",
       " 'quân_hàm',\n",
       " 'đại_úy',\n",
       " 'công_tác',\n",
       " 'tại',\n",
       " 'trại_giam',\n",
       " 'bình_điền',\n",
       " 'đóng',\n",
       " 'ở',\n",
       " 'xã',\n",
       " 'bình_tiến',\n",
       " 'thị_xã',\n",
       " 'hương',\n",
       " 'trà_khẩu',\n",
       " 'súng',\n",
       " 'gây',\n",
       " 'án',\n",
       " 'đã',\n",
       " 'bị',\n",
       " 'thu_giữ',\n",
       " 'hiện_trường',\n",
       " 'hai',\n",
       " 'tiệm',\n",
       " 'vàng',\n",
       " 'bị',\n",
       " 'phong_tỏa',\n",
       " 'để',\n",
       " 'công_an',\n",
       " 'khám_nghiệm',\n",
       " 'phía',\n",
       " 'trong',\n",
       " 'nhiều',\n",
       " 'mảnh',\n",
       " 'kính',\n",
       " 'bị',\n",
       " 'vỡ',\n",
       " 'văng_vãi',\n",
       " 'khắp_nơi',\n",
       " 'đông',\n",
       " 'ba',\n",
       " 'là',\n",
       " 'chợ',\n",
       " 'nổi_tiếng',\n",
       " 'và',\n",
       " 'sầm_uất',\n",
       " 'nhất',\n",
       " 'tp',\n",
       " 'huế',\n",
       " 'nằm',\n",
       " 'bên',\n",
       " 'bờ',\n",
       " 'bắc',\n",
       " 'sông',\n",
       " 'hương',\n",
       " 'trên',\n",
       " 'đường',\n",
       " 'trần_hưng_đạo',\n",
       " 'nơi',\n",
       " 'đây',\n",
       " 'thu_hút',\n",
       " 'nhiều',\n",
       " 'du_khách',\n",
       " 'trong',\n",
       " 'và',\n",
       " 'ngoài',\n",
       " 'nước',\n",
       " 'trong',\n",
       " 'hành_trình',\n",
       " 'du_lịch',\n",
       " 'huế',\n",
       " 'theo',\n",
       " 'mt',\n",
       " '2',\n",
       " 'sao',\n",
       " '/',\n",
       " 'vietnamnet_trang',\n",
       " 'thông_tin',\n",
       " 'điện_tử',\n",
       " 'docbao',\n",
       " 'vn',\n",
       " 'công_ty',\n",
       " 'cổ_phần',\n",
       " 'quang_minh',\n",
       " 'việt_nam',\n",
       " 'giấy_phép',\n",
       " 'thiết_lập',\n",
       " 'trang',\n",
       " 'thông_tin',\n",
       " 'điện_tử',\n",
       " 'tổng_hợp',\n",
       " 'trên',\n",
       " 'internet',\n",
       " 'số',\n",
       " '2372',\n",
       " '/',\n",
       " 'gp',\n",
       " 'stttt',\n",
       " 'cấp',\n",
       " 'ngày',\n",
       " '29/8/2014',\n",
       " 'sđt',\n",
       " '024',\n",
       " '666',\n",
       " '40816',\n",
       " 'địa_chỉ',\n",
       " 'p604',\n",
       " 'tầng',\n",
       " '6',\n",
       " 'tòa',\n",
       " 'nhà',\n",
       " 'golden',\n",
       " 'field',\n",
       " 'khu',\n",
       " 'đô_thị',\n",
       " 'mới',\n",
       " 'mỹ_đình',\n",
       " '1',\n",
       " 'phường',\n",
       " 'cầu_diễn',\n",
       " 'quận',\n",
       " 'nam',\n",
       " 'từ',\n",
       " 'liêm',\n",
       " 'hà_nội',\n",
       " 'chịu',\n",
       " 'trách_nhiệm',\n",
       " 'nội_dung',\n",
       " 'điều_thị',\n",
       " 'bích_đt',\n",
       " '0903',\n",
       " '263',\n",
       " '198',\n",
       " 'email',\n",
       " 'docbao',\n",
       " 'kib',\n",
       " 'vn',\n",
       " 'đọc',\n",
       " 'báo',\n",
       " 'trực_tuyến',\n",
       " 'hiện_tại',\n",
       " 'chỉ',\n",
       " 'sử_dụng',\n",
       " 'tên',\n",
       " 'miền',\n",
       " 'duy_nhất',\n",
       " 'là',\n",
       " 'docbao',\n",
       " 'vn',\n",
       " 'độc_giả',\n",
       " 'lưu_ý',\n",
       " 'tránh',\n",
       " 'nhầm_lẫn',\n",
       " 'chính_sách',\n",
       " 'bảo_mật',\n",
       " 'rss']"
      ]
     },
     "execution_count": 9,
     "metadata": {},
     "output_type": "execute_result"
    }
   ],
   "source": [
    "# tokenize Vietnamese text\n",
    "from underthesea import word_tokenize\n",
    "tokens_list = []\n",
    "for item in clean_content:\n",
    "    tokens = word_tokenize(item, format=\"text\").split()\n",
    "    tokens_list.append(tokens)\n",
    "tokens_list[0]"
   ]
  },
  {
   "cell_type": "code",
   "execution_count": 10,
   "id": "e2c9505c",
   "metadata": {
    "execution": {
     "iopub.execute_input": "2024-09-21T09:54:37.476612Z",
     "iopub.status.busy": "2024-09-21T09:54:37.475602Z",
     "iopub.status.idle": "2024-09-21T09:54:37.481038Z",
     "shell.execute_reply": "2024-09-21T09:54:37.479857Z"
    },
    "papermill": {
     "duration": 0.02118,
     "end_time": "2024-09-21T09:54:37.483516",
     "exception": false,
     "start_time": "2024-09-21T09:54:37.462336",
     "status": "completed"
    },
    "scrolled": true,
    "tags": []
   },
   "outputs": [],
   "source": [
    "# # tokenize text (word tokenize)\n",
    "# tokens_list = []\n",
    "# for item in clean_content:\n",
    "#     tokens = word_tokenize(item)\n",
    "#     tokens_list.append(tokens)\n",
    "# tokens_list[0]"
   ]
  },
  {
   "cell_type": "code",
   "execution_count": 11,
   "id": "f31abdde",
   "metadata": {
    "execution": {
     "iopub.execute_input": "2024-09-21T09:54:37.509637Z",
     "iopub.status.busy": "2024-09-21T09:54:37.508632Z",
     "iopub.status.idle": "2024-09-21T09:54:46.499207Z",
     "shell.execute_reply": "2024-09-21T09:54:46.498072Z"
    },
    "papermill": {
     "duration": 9.006821,
     "end_time": "2024-09-21T09:54:46.502168",
     "exception": false,
     "start_time": "2024-09-21T09:54:37.495347",
     "status": "completed"
    },
    "tags": []
   },
   "outputs": [],
   "source": [
    "# remove number from tokenize list\n",
    "for i in range(len(tokens_list)):\n",
    "    tokens_list[i] = [item for item in tokens_list[i] if not item.isdigit()]"
   ]
  },
  {
   "cell_type": "code",
   "execution_count": 12,
   "id": "f1a1f352",
   "metadata": {
    "execution": {
     "iopub.execute_input": "2024-09-21T09:54:46.528455Z",
     "iopub.status.busy": "2024-09-21T09:54:46.528051Z",
     "iopub.status.idle": "2024-09-21T09:55:06.060903Z",
     "shell.execute_reply": "2024-09-21T09:55:06.059764Z"
    },
    "papermill": {
     "duration": 19.549773,
     "end_time": "2024-09-21T09:55:06.064036",
     "exception": false,
     "start_time": "2024-09-21T09:54:46.514263",
     "status": "completed"
    },
    "tags": []
   },
   "outputs": [
    {
     "name": "stdout",
     "output_type": "stream",
     "text": [
      "và: 1215809\n",
      "của: 1059891\n",
      "các: 872034\n",
      "trong: 779686\n",
      "là: 774537\n",
      "có: 766143\n",
      "được: 676238\n",
      "cho: 647005\n",
      "với: 638984\n",
      "đã: 597587\n",
      "không: 520356\n",
      "người: 492074\n",
      "một: 453266\n",
      "để: 453071\n",
      "khi: 439973\n",
      "những: 426017\n",
      "ở: 394306\n",
      "đến: 385399\n",
      "này: 384128\n",
      "về: 366815\n",
      "từ: 362591\n",
      "đó: 348388\n",
      "năm: 344861\n",
      "nhiều: 338405\n",
      "cũng: 331990\n",
      "vào: 320259\n",
      "trên: 317716\n",
      "tại: 317270\n",
      "sẽ: 308692\n",
      "theo: 288355\n",
      "ra: 277447\n",
      "ngày: 257959\n",
      "sau: 248396\n",
      "ông: 239582\n",
      "hơn: 235520\n",
      "như: 221776\n",
      "phải: 215828\n",
      "anh: 212596\n",
      "việc: 206784\n",
      "nhưng: 203225\n",
      "có_thể: 200428\n",
      "lại: 197961\n",
      "bị: 190958\n",
      "đang: 188904\n",
      "làm: 187422\n",
      "còn: 185304\n",
      "biết: 183121\n",
      "tôi: 181574\n",
      "việt_nam: 181023\n",
      "trước: 178699\n"
     ]
    }
   ],
   "source": [
    "# build stop words list bases on frequency\n",
    "from collections import Counter\n",
    "stop_words = []\n",
    "\n",
    "all_words = [item for sublist in tokens_list for item in sublist]\n",
    "word_count = Counter(all_words)\n",
    "\n",
    "# take a list of most common 50 words\n",
    "top_50_words = word_count.most_common(50)\n",
    "\n",
    "for word, count in top_50_words:\n",
    "    stop_words.append(word)\n",
    "    print(f'{word}: {count}')"
   ]
  },
  {
   "cell_type": "code",
   "execution_count": 13,
   "id": "f06d31ca",
   "metadata": {
    "execution": {
     "iopub.execute_input": "2024-09-21T09:55:06.089906Z",
     "iopub.status.busy": "2024-09-21T09:55:06.089467Z",
     "iopub.status.idle": "2024-09-21T09:55:14.041776Z",
     "shell.execute_reply": "2024-09-21T09:55:14.040695Z"
    },
    "papermill": {
     "duration": 7.968603,
     "end_time": "2024-09-21T09:55:14.044937",
     "exception": false,
     "start_time": "2024-09-21T09:55:06.076334",
     "status": "completed"
    },
    "tags": []
   },
   "outputs": [],
   "source": [
    "stop_words.append('/')\n",
    "stop_words = set(stop_words)\n",
    "# remove stop words\n",
    "for i in range(len(tokens_list)):\n",
    "    tokens_list[i] = [item for item in tokens_list[i] if item not in stop_words]"
   ]
  },
  {
   "cell_type": "code",
   "execution_count": 14,
   "id": "c9953bda",
   "metadata": {
    "execution": {
     "iopub.execute_input": "2024-09-21T09:55:14.071821Z",
     "iopub.status.busy": "2024-09-21T09:55:14.071389Z",
     "iopub.status.idle": "2024-09-21T09:55:14.086752Z",
     "shell.execute_reply": "2024-09-21T09:55:14.085538Z"
    },
    "papermill": {
     "duration": 0.032069,
     "end_time": "2024-09-21T09:55:14.089572",
     "exception": false,
     "start_time": "2024-09-21T09:55:14.057503",
     "status": "completed"
    },
    "scrolled": true,
    "tags": []
   },
   "outputs": [
    {
     "data": {
      "text/plain": [
       "['chiều',\n",
       " '31/7',\n",
       " 'công_an',\n",
       " 'tỉnh',\n",
       " 'thừa',\n",
       " 'thiên_huế',\n",
       " 'thông_tin',\n",
       " 'ban_đầu',\n",
       " 'vụ',\n",
       " 'nổ_súng',\n",
       " 'cướp',\n",
       " 'tiệm',\n",
       " 'vàng',\n",
       " 'chợ',\n",
       " 'đông',\n",
       " 'ba',\n",
       " 'nằm',\n",
       " 'đường',\n",
       " 'trần_hưng_đạo',\n",
       " 'tp',\n",
       " 'huế',\n",
       " 'tỉnh',\n",
       " 'thừa',\n",
       " 'thiên_huế',\n",
       " 'thông_sài',\n",
       " 'gòn',\n",
       " 'giải_phóng',\n",
       " 'khoảng',\n",
       " 'h30',\n",
       " '31/7',\n",
       " 'đối_tượng',\n",
       " 'sử_dụng',\n",
       " 'súng',\n",
       " 'ak',\n",
       " 'bất_ngờ',\n",
       " 'xông',\n",
       " 'tiệm',\n",
       " 'vàng',\n",
       " 'hoàng_đức',\n",
       " 'thái_lợi',\n",
       " 'phía',\n",
       " 'chợ',\n",
       " 'đông',\n",
       " 'ba',\n",
       " 'rồi',\n",
       " 'nổ_súng',\n",
       " 'chỉ_thiên',\n",
       " 'liên_tiếp',\n",
       " 'uy_hiếp',\n",
       " 'chủ',\n",
       " 'tiệm',\n",
       " 'cướp',\n",
       " 'vàng',\n",
       " 'đối_tượng',\n",
       " 'mang',\n",
       " 'số',\n",
       " 'vàng',\n",
       " 'vừa',\n",
       " 'cướp',\n",
       " 'vứt',\n",
       " 'vỉa_hè',\n",
       " 'rồi',\n",
       " 'đi',\n",
       " 'bộ',\n",
       " 'khu_vực',\n",
       " 'cầu',\n",
       " 'gia_hội',\n",
       " 'cách',\n",
       " 'khu_vực',\n",
       " 'gây',\n",
       " 'án',\n",
       " 'khoảng',\n",
       " 'm',\n",
       " 'giám_đốc',\n",
       " 'công_an',\n",
       " 'tỉnh',\n",
       " 'thừa',\n",
       " 'thiên_huế',\n",
       " 'lập_tức',\n",
       " 'trực_tiếp',\n",
       " 'chỉ_đạo',\n",
       " 'lực_lượng',\n",
       " 'chức_năng',\n",
       " 'gồm',\n",
       " 'công_an',\n",
       " 'tỉnh',\n",
       " 'công_an',\n",
       " 'tp',\n",
       " 'huế',\n",
       " 'nhanh_chóng',\n",
       " 'có_mặt',\n",
       " 'hiện_trường',\n",
       " 'triển_khai',\n",
       " 'đồng_bộ',\n",
       " 'biện_pháp',\n",
       " 'nghiệp_vụ',\n",
       " 'khoanh',\n",
       " 'vùng',\n",
       " 'ngăn',\n",
       " 'người_dân',\n",
       " 'đi',\n",
       " 'hiện_trường',\n",
       " 'hàng',\n",
       " 'trăm',\n",
       " 'tiểu_thương',\n",
       " 'chợ',\n",
       " 'đông',\n",
       " 'ba',\n",
       " 'người_dân',\n",
       " 'gần',\n",
       " 'cầu',\n",
       " 'gia_hội',\n",
       " 'yêu_cầu',\n",
       " 'di_chuyển',\n",
       " 'khỏi',\n",
       " 'hiện_trường',\n",
       " 'đóng_cửa',\n",
       " 'nhà',\n",
       " 'đề_phòng',\n",
       " 'đạn_lạc',\n",
       " 'tuy_nhiên',\n",
       " 'thấy',\n",
       " 'vàng',\n",
       " 'ném',\n",
       " 'đường',\n",
       " 'đua',\n",
       " 'nhau',\n",
       " 'nhặt',\n",
       " 'tạo',\n",
       " 'cảnh',\n",
       " 'nhốn_nháo',\n",
       " 'cổng',\n",
       " 'chợ',\n",
       " 'do',\n",
       " 'đây',\n",
       " 'khu_vực',\n",
       " 'trung_tâm',\n",
       " 'tp',\n",
       " 'huế',\n",
       " 'đông',\n",
       " 'dân',\n",
       " 'nên',\n",
       " 'đảm_bảo',\n",
       " 'an_toàn',\n",
       " 'người_dân',\n",
       " 'lực_lượng',\n",
       " 'công_an',\n",
       " 'tìm',\n",
       " 'cách',\n",
       " 'hướng',\n",
       " 'đối_tượng',\n",
       " 'nhà',\n",
       " 'lục_giác',\n",
       " 'khu_vực',\n",
       " 'công_viên',\n",
       " 'trịnh_công',\n",
       " 'sơn',\n",
       " 'cạnh',\n",
       " 'cầu',\n",
       " 'gia_hội',\n",
       " 'lúc',\n",
       " 'đối_tượng',\n",
       " 'biểu_hiện',\n",
       " 'kích_động',\n",
       " 'muốn',\n",
       " 'tự_tử',\n",
       " 'nên',\n",
       " 'đại_tá',\n",
       " 'phạm_văn',\n",
       " 'toàn',\n",
       " 'trưởng',\n",
       " 'phòng',\n",
       " 'cảnh_sát',\n",
       " 'hình_sự',\n",
       " 'công_an',\n",
       " 'tỉnh',\n",
       " 'thừa',\n",
       " 'thiên_huế',\n",
       " 'một_số',\n",
       " 'đồng_chí',\n",
       " 'công_an',\n",
       " 'khác',\n",
       " 'trực_tiếp',\n",
       " 'tiếp_cận',\n",
       " 'thuyết_phục',\n",
       " 'đối_tượng',\n",
       " 'đối_tượng',\n",
       " 'yêu_cầu',\n",
       " 'nói_chuyện',\n",
       " 'đại_tá',\n",
       " 'đặng_ngọc_sơn',\n",
       " 'phó',\n",
       " 'giám_đốc',\n",
       " 'công_an',\n",
       " 'tỉnh',\n",
       " 'ngay',\n",
       " 'đại_tá',\n",
       " 'đặng_ngọc_sơn',\n",
       " 'gặp_gỡ',\n",
       " 'động_viên',\n",
       " 'thuyết_phục',\n",
       " 'đối_tượng',\n",
       " 'đồng_ý',\n",
       " 'hạ',\n",
       " 'giao_nộp',\n",
       " 'vũ_khí',\n",
       " 'vnexpress',\n",
       " 'tên',\n",
       " 'cướp',\n",
       " 'ngô',\n",
       " 'văn_quốc',\n",
       " 'tuổi',\n",
       " 'quân_hàm',\n",
       " 'đại_úy',\n",
       " 'công_tác',\n",
       " 'trại_giam',\n",
       " 'bình_điền',\n",
       " 'đóng',\n",
       " 'xã',\n",
       " 'bình_tiến',\n",
       " 'thị_xã',\n",
       " 'hương',\n",
       " 'trà_khẩu',\n",
       " 'súng',\n",
       " 'gây',\n",
       " 'án',\n",
       " 'thu_giữ',\n",
       " 'hiện_trường',\n",
       " 'hai',\n",
       " 'tiệm',\n",
       " 'vàng',\n",
       " 'phong_tỏa',\n",
       " 'công_an',\n",
       " 'khám_nghiệm',\n",
       " 'phía',\n",
       " 'mảnh',\n",
       " 'kính',\n",
       " 'vỡ',\n",
       " 'văng_vãi',\n",
       " 'khắp_nơi',\n",
       " 'đông',\n",
       " 'ba',\n",
       " 'chợ',\n",
       " 'nổi_tiếng',\n",
       " 'sầm_uất',\n",
       " 'nhất',\n",
       " 'tp',\n",
       " 'huế',\n",
       " 'nằm',\n",
       " 'bên',\n",
       " 'bờ',\n",
       " 'bắc',\n",
       " 'sông',\n",
       " 'hương',\n",
       " 'đường',\n",
       " 'trần_hưng_đạo',\n",
       " 'nơi',\n",
       " 'đây',\n",
       " 'thu_hút',\n",
       " 'du_khách',\n",
       " 'ngoài',\n",
       " 'nước',\n",
       " 'hành_trình',\n",
       " 'du_lịch',\n",
       " 'huế',\n",
       " 'mt',\n",
       " 'sao',\n",
       " 'vietnamnet_trang',\n",
       " 'thông_tin',\n",
       " 'điện_tử',\n",
       " 'docbao',\n",
       " 'vn',\n",
       " 'công_ty',\n",
       " 'cổ_phần',\n",
       " 'quang_minh',\n",
       " 'giấy_phép',\n",
       " 'thiết_lập',\n",
       " 'trang',\n",
       " 'thông_tin',\n",
       " 'điện_tử',\n",
       " 'tổng_hợp',\n",
       " 'internet',\n",
       " 'số',\n",
       " 'gp',\n",
       " 'stttt',\n",
       " 'cấp',\n",
       " '29/8/2014',\n",
       " 'sđt',\n",
       " 'địa_chỉ',\n",
       " 'p604',\n",
       " 'tầng',\n",
       " 'tòa',\n",
       " 'nhà',\n",
       " 'golden',\n",
       " 'field',\n",
       " 'khu',\n",
       " 'đô_thị',\n",
       " 'mới',\n",
       " 'mỹ_đình',\n",
       " 'phường',\n",
       " 'cầu_diễn',\n",
       " 'quận',\n",
       " 'nam',\n",
       " 'liêm',\n",
       " 'hà_nội',\n",
       " 'chịu',\n",
       " 'trách_nhiệm',\n",
       " 'nội_dung',\n",
       " 'điều_thị',\n",
       " 'bích_đt',\n",
       " 'email',\n",
       " 'docbao',\n",
       " 'kib',\n",
       " 'vn',\n",
       " 'đọc',\n",
       " 'báo',\n",
       " 'trực_tuyến',\n",
       " 'hiện_tại',\n",
       " 'chỉ',\n",
       " 'sử_dụng',\n",
       " 'tên',\n",
       " 'miền',\n",
       " 'duy_nhất',\n",
       " 'docbao',\n",
       " 'vn',\n",
       " 'độc_giả',\n",
       " 'lưu_ý',\n",
       " 'tránh',\n",
       " 'nhầm_lẫn',\n",
       " 'chính_sách',\n",
       " 'bảo_mật',\n",
       " 'rss']"
      ]
     },
     "execution_count": 14,
     "metadata": {},
     "output_type": "execute_result"
    }
   ],
   "source": [
    "tokens_list[0]"
   ]
  },
  {
   "cell_type": "code",
   "execution_count": 15,
   "id": "26671024",
   "metadata": {
    "execution": {
     "iopub.execute_input": "2024-09-21T09:55:14.118838Z",
     "iopub.status.busy": "2024-09-21T09:55:14.118407Z",
     "iopub.status.idle": "2024-09-21T09:55:17.379790Z",
     "shell.execute_reply": "2024-09-21T09:55:17.378560Z"
    },
    "papermill": {
     "duration": 3.278953,
     "end_time": "2024-09-21T09:55:17.382498",
     "exception": false,
     "start_time": "2024-09-21T09:55:14.103545",
     "status": "completed"
    },
    "tags": []
   },
   "outputs": [
    {
     "data": {
      "text/plain": [
       "'chiều 31/7 công_an tỉnh thừa thiên_huế thông_tin ban_đầu vụ nổ_súng cướp tiệm vàng chợ đông ba nằm đường trần_hưng_đạo tp huế tỉnh thừa thiên_huế thông_sài gòn giải_phóng khoảng h30 31/7 đối_tượng sử_dụng súng ak bất_ngờ xông tiệm vàng hoàng_đức thái_lợi phía chợ đông ba rồi nổ_súng chỉ_thiên liên_tiếp uy_hiếp chủ tiệm cướp vàng đối_tượng mang số vàng vừa cướp vứt vỉa_hè rồi đi bộ khu_vực cầu gia_hội cách khu_vực gây án khoảng m giám_đốc công_an tỉnh thừa thiên_huế lập_tức trực_tiếp chỉ_đạo lực_lượng chức_năng gồm công_an tỉnh công_an tp huế nhanh_chóng có_mặt hiện_trường triển_khai đồng_bộ biện_pháp nghiệp_vụ khoanh vùng ngăn người_dân đi hiện_trường hàng trăm tiểu_thương chợ đông ba người_dân gần cầu gia_hội yêu_cầu di_chuyển khỏi hiện_trường đóng_cửa nhà đề_phòng đạn_lạc tuy_nhiên thấy vàng ném đường đua nhau nhặt tạo cảnh nhốn_nháo cổng chợ do đây khu_vực trung_tâm tp huế đông dân nên đảm_bảo an_toàn người_dân lực_lượng công_an tìm cách hướng đối_tượng nhà lục_giác khu_vực công_viên trịnh_công sơn cạnh cầu gia_hội lúc đối_tượng biểu_hiện kích_động muốn tự_tử nên đại_tá phạm_văn toàn trưởng phòng cảnh_sát hình_sự công_an tỉnh thừa thiên_huế một_số đồng_chí công_an khác trực_tiếp tiếp_cận thuyết_phục đối_tượng đối_tượng yêu_cầu nói_chuyện đại_tá đặng_ngọc_sơn phó giám_đốc công_an tỉnh ngay đại_tá đặng_ngọc_sơn gặp_gỡ động_viên thuyết_phục đối_tượng đồng_ý hạ giao_nộp vũ_khí vnexpress tên cướp ngô văn_quốc tuổi quân_hàm đại_úy công_tác trại_giam bình_điền đóng xã bình_tiến thị_xã hương trà_khẩu súng gây án thu_giữ hiện_trường hai tiệm vàng phong_tỏa công_an khám_nghiệm phía mảnh kính vỡ văng_vãi khắp_nơi đông ba chợ nổi_tiếng sầm_uất nhất tp huế nằm bên bờ bắc sông hương đường trần_hưng_đạo nơi đây thu_hút du_khách ngoài nước hành_trình du_lịch huế mt sao vietnamnet_trang thông_tin điện_tử docbao vn công_ty cổ_phần quang_minh giấy_phép thiết_lập trang thông_tin điện_tử tổng_hợp internet số gp stttt cấp 29/8/2014 sđt địa_chỉ p604 tầng tòa nhà golden field khu đô_thị mới mỹ_đình phường cầu_diễn quận nam liêm hà_nội chịu trách_nhiệm nội_dung điều_thị bích_đt email docbao kib vn đọc báo trực_tuyến hiện_tại chỉ sử_dụng tên miền duy_nhất docbao vn độc_giả lưu_ý tránh nhầm_lẫn chính_sách bảo_mật rss'"
      ]
     },
     "execution_count": 15,
     "metadata": {},
     "output_type": "execute_result"
    }
   ],
   "source": [
    "for i in range(len(tokens_list)):\n",
    "    tokens_list[i] = ' '.join(tokens_list[i])\n",
    "tokens_list[0]"
   ]
  },
  {
   "cell_type": "code",
   "execution_count": 16,
   "id": "1fb2c5bf",
   "metadata": {
    "execution": {
     "iopub.execute_input": "2024-09-21T09:55:17.409794Z",
     "iopub.status.busy": "2024-09-21T09:55:17.409233Z",
     "iopub.status.idle": "2024-09-21T09:55:20.712031Z",
     "shell.execute_reply": "2024-09-21T09:55:20.710649Z"
    },
    "papermill": {
     "duration": 3.319436,
     "end_time": "2024-09-21T09:55:20.714711",
     "exception": false,
     "start_time": "2024-09-21T09:55:17.395275",
     "status": "completed"
    },
    "tags": []
   },
   "outputs": [
    {
     "data": {
      "text/plain": [
       "0"
      ]
     },
     "execution_count": 16,
     "metadata": {},
     "output_type": "execute_result"
    }
   ],
   "source": [
    "# delete variables due to lack of RAM\n",
    "del raw\n",
    "del raw_content\n",
    "del clean_content\n",
    "del word_count\n",
    "del all_words\n",
    "gc.collect()"
   ]
  },
  {
   "cell_type": "markdown",
   "id": "6762c8da",
   "metadata": {
    "papermill": {
     "duration": 0.012566,
     "end_time": "2024-09-21T09:55:20.739952",
     "exception": false,
     "start_time": "2024-09-21T09:55:20.727386",
     "status": "completed"
    },
    "tags": []
   },
   "source": [
    "# Extract feature"
   ]
  },
  {
   "cell_type": "code",
   "execution_count": 17,
   "id": "4e892697",
   "metadata": {
    "execution": {
     "iopub.execute_input": "2024-09-21T09:55:20.766855Z",
     "iopub.status.busy": "2024-09-21T09:55:20.766423Z",
     "iopub.status.idle": "2024-09-21T09:56:38.899420Z",
     "shell.execute_reply": "2024-09-21T09:56:38.897952Z"
    },
    "papermill": {
     "duration": 78.149864,
     "end_time": "2024-09-21T09:56:38.902185",
     "exception": false,
     "start_time": "2024-09-21T09:55:20.752321",
     "status": "completed"
    },
    "tags": []
   },
   "outputs": [],
   "source": [
    "from sklearn.feature_extraction.text import CountVectorizer, TfidfVectorizer, HashingVectorizer\n",
    "# Using Bag of Words\n",
    "vectorizer = CountVectorizer()\n",
    "X = vectorizer.fit_transform(tokens_list)"
   ]
  },
  {
   "cell_type": "code",
   "execution_count": 18,
   "id": "c10dca80",
   "metadata": {
    "execution": {
     "iopub.execute_input": "2024-09-21T09:56:38.929812Z",
     "iopub.status.busy": "2024-09-21T09:56:38.929280Z",
     "iopub.status.idle": "2024-09-21T09:56:38.938046Z",
     "shell.execute_reply": "2024-09-21T09:56:38.936748Z"
    },
    "papermill": {
     "duration": 0.026118,
     "end_time": "2024-09-21T09:56:38.941115",
     "exception": false,
     "start_time": "2024-09-21T09:56:38.914997",
     "status": "completed"
    },
    "tags": []
   },
   "outputs": [
    {
     "data": {
      "text/plain": [
       "<Compressed Sparse Row sparse matrix of dtype 'int64'\n",
       "\twith 28614384 stored elements and shape (184539, 503189)>"
      ]
     },
     "execution_count": 18,
     "metadata": {},
     "output_type": "execute_result"
    }
   ],
   "source": [
    "X"
   ]
  },
  {
   "cell_type": "code",
   "execution_count": 19,
   "id": "b6444581",
   "metadata": {
    "execution": {
     "iopub.execute_input": "2024-09-21T09:56:38.971855Z",
     "iopub.status.busy": "2024-09-21T09:56:38.970812Z",
     "iopub.status.idle": "2024-09-21T09:56:38.980760Z",
     "shell.execute_reply": "2024-09-21T09:56:38.979578Z"
    },
    "papermill": {
     "duration": 0.028618,
     "end_time": "2024-09-21T09:56:38.983118",
     "exception": false,
     "start_time": "2024-09-21T09:56:38.954500",
     "status": "completed"
    },
    "tags": []
   },
   "outputs": [
    {
     "data": {
      "text/plain": [
       "array([[0, 0, 0, ..., 0, 0, 0]])"
      ]
     },
     "execution_count": 19,
     "metadata": {},
     "output_type": "execute_result"
    }
   ],
   "source": [
    "X[0].toarray()"
   ]
  },
  {
   "cell_type": "code",
   "execution_count": 20,
   "id": "48b38c00",
   "metadata": {
    "execution": {
     "iopub.execute_input": "2024-09-21T09:56:39.011518Z",
     "iopub.status.busy": "2024-09-21T09:56:39.010647Z",
     "iopub.status.idle": "2024-09-21T09:56:39.019978Z",
     "shell.execute_reply": "2024-09-21T09:56:39.018738Z"
    },
    "papermill": {
     "duration": 0.026391,
     "end_time": "2024-09-21T09:56:39.022492",
     "exception": false,
     "start_time": "2024-09-21T09:56:38.996101",
     "status": "completed"
    },
    "tags": []
   },
   "outputs": [
    {
     "data": {
      "text/plain": [
       "(1, 503189)"
      ]
     },
     "execution_count": 20,
     "metadata": {},
     "output_type": "execute_result"
    }
   ],
   "source": [
    "X[0].toarray().shape"
   ]
  },
  {
   "cell_type": "code",
   "execution_count": 21,
   "id": "70a43e43",
   "metadata": {
    "execution": {
     "iopub.execute_input": "2024-09-21T09:56:39.051108Z",
     "iopub.status.busy": "2024-09-21T09:56:39.050606Z",
     "iopub.status.idle": "2024-09-21T10:00:47.542060Z",
     "shell.execute_reply": "2024-09-21T10:00:47.540265Z"
    },
    "papermill": {
     "duration": 248.510244,
     "end_time": "2024-09-21T10:00:47.546047",
     "exception": false,
     "start_time": "2024-09-21T09:56:39.035803",
     "status": "completed"
    },
    "tags": []
   },
   "outputs": [],
   "source": [
    "# Using bigram Bag of Words\n",
    "bigram_vectorizer = CountVectorizer(ngram_range=(1, 2),\n",
    "                                    token_pattern=r'\\b\\w+\\b', min_df=1)\n",
    "X_bigram = bigram_vectorizer.fit_transform(tokens_list)"
   ]
  },
  {
   "cell_type": "code",
   "execution_count": 22,
   "id": "945f90a3",
   "metadata": {
    "execution": {
     "iopub.execute_input": "2024-09-21T10:00:47.577113Z",
     "iopub.status.busy": "2024-09-21T10:00:47.576070Z",
     "iopub.status.idle": "2024-09-21T10:00:47.585918Z",
     "shell.execute_reply": "2024-09-21T10:00:47.584564Z"
    },
    "papermill": {
     "duration": 0.028046,
     "end_time": "2024-09-21T10:00:47.588575",
     "exception": false,
     "start_time": "2024-09-21T10:00:47.560529",
     "status": "completed"
    },
    "tags": []
   },
   "outputs": [
    {
     "data": {
      "text/plain": [
       "<Compressed Sparse Row sparse matrix of dtype 'int64'\n",
       "\twith 72920954 stored elements and shape (184539, 9012648)>"
      ]
     },
     "execution_count": 22,
     "metadata": {},
     "output_type": "execute_result"
    }
   ],
   "source": [
    "X_bigram"
   ]
  },
  {
   "cell_type": "code",
   "execution_count": 23,
   "id": "b4561618",
   "metadata": {
    "execution": {
     "iopub.execute_input": "2024-09-21T10:00:47.618734Z",
     "iopub.status.busy": "2024-09-21T10:00:47.618231Z",
     "iopub.status.idle": "2024-09-21T10:02:13.717608Z",
     "shell.execute_reply": "2024-09-21T10:02:13.716246Z"
    },
    "papermill": {
     "duration": 86.118451,
     "end_time": "2024-09-21T10:02:13.721321",
     "exception": false,
     "start_time": "2024-09-21T10:00:47.602870",
     "status": "completed"
    },
    "tags": []
   },
   "outputs": [],
   "source": [
    "# Using TF-IDF\n",
    "tfidf_vectorizer = TfidfVectorizer()\n",
    "X_tfidf = tfidf_vectorizer.fit_transform(tokens_list)"
   ]
  },
  {
   "cell_type": "code",
   "execution_count": 24,
   "id": "fd3e0995",
   "metadata": {
    "execution": {
     "iopub.execute_input": "2024-09-21T10:02:13.753589Z",
     "iopub.status.busy": "2024-09-21T10:02:13.753161Z",
     "iopub.status.idle": "2024-09-21T10:02:13.761252Z",
     "shell.execute_reply": "2024-09-21T10:02:13.760164Z"
    },
    "papermill": {
     "duration": 0.027011,
     "end_time": "2024-09-21T10:02:13.764853",
     "exception": false,
     "start_time": "2024-09-21T10:02:13.737842",
     "status": "completed"
    },
    "tags": []
   },
   "outputs": [
    {
     "data": {
      "text/plain": [
       "<Compressed Sparse Row sparse matrix of dtype 'float64'\n",
       "\twith 28614384 stored elements and shape (184539, 503189)>"
      ]
     },
     "execution_count": 24,
     "metadata": {},
     "output_type": "execute_result"
    }
   ],
   "source": [
    "X_tfidf"
   ]
  },
  {
   "cell_type": "code",
   "execution_count": 25,
   "id": "f621ece4",
   "metadata": {
    "execution": {
     "iopub.execute_input": "2024-09-21T10:02:13.798932Z",
     "iopub.status.busy": "2024-09-21T10:02:13.798343Z",
     "iopub.status.idle": "2024-09-21T10:02:13.808919Z",
     "shell.execute_reply": "2024-09-21T10:02:13.807613Z"
    },
    "papermill": {
     "duration": 0.02933,
     "end_time": "2024-09-21T10:02:13.811565",
     "exception": false,
     "start_time": "2024-09-21T10:02:13.782235",
     "status": "completed"
    },
    "tags": []
   },
   "outputs": [
    {
     "data": {
      "text/plain": [
       "array([[0., 0., 0., ..., 0., 0., 0.]])"
      ]
     },
     "execution_count": 25,
     "metadata": {},
     "output_type": "execute_result"
    }
   ],
   "source": [
    "X_tfidf[0].toarray()"
   ]
  },
  {
   "cell_type": "code",
   "execution_count": 26,
   "id": "7a901fdb",
   "metadata": {
    "execution": {
     "iopub.execute_input": "2024-09-21T10:02:13.843576Z",
     "iopub.status.busy": "2024-09-21T10:02:13.842442Z",
     "iopub.status.idle": "2024-09-21T10:02:13.852221Z",
     "shell.execute_reply": "2024-09-21T10:02:13.850905Z"
    },
    "papermill": {
     "duration": 0.028395,
     "end_time": "2024-09-21T10:02:13.854851",
     "exception": false,
     "start_time": "2024-09-21T10:02:13.826456",
     "status": "completed"
    },
    "tags": []
   },
   "outputs": [
    {
     "data": {
      "text/plain": [
       "(1, 503189)"
      ]
     },
     "execution_count": 26,
     "metadata": {},
     "output_type": "execute_result"
    }
   ],
   "source": [
    "X_tfidf[0].toarray().shape"
   ]
  },
  {
   "cell_type": "code",
   "execution_count": 27,
   "id": "8cad7171",
   "metadata": {
    "execution": {
     "iopub.execute_input": "2024-09-21T10:02:13.885920Z",
     "iopub.status.busy": "2024-09-21T10:02:13.885394Z",
     "iopub.status.idle": "2024-09-21T10:03:22.389081Z",
     "shell.execute_reply": "2024-09-21T10:03:22.387918Z"
    },
    "papermill": {
     "duration": 68.522741,
     "end_time": "2024-09-21T10:03:22.392057",
     "exception": false,
     "start_time": "2024-09-21T10:02:13.869316",
     "status": "completed"
    },
    "tags": []
   },
   "outputs": [],
   "source": [
    "# Using Hashing trick\n",
    "hv = HashingVectorizer()\n",
    "X_hv = hv.transform(tokens_list)"
   ]
  },
  {
   "cell_type": "code",
   "execution_count": 28,
   "id": "953aade6",
   "metadata": {
    "execution": {
     "iopub.execute_input": "2024-09-21T10:03:22.423336Z",
     "iopub.status.busy": "2024-09-21T10:03:22.421736Z",
     "iopub.status.idle": "2024-09-21T10:03:22.431030Z",
     "shell.execute_reply": "2024-09-21T10:03:22.429901Z"
    },
    "papermill": {
     "duration": 0.026989,
     "end_time": "2024-09-21T10:03:22.433393",
     "exception": false,
     "start_time": "2024-09-21T10:03:22.406404",
     "status": "completed"
    },
    "tags": []
   },
   "outputs": [
    {
     "data": {
      "text/plain": [
       "<Compressed Sparse Row sparse matrix of dtype 'float64'\n",
       "\twith 28613144 stored elements and shape (184539, 1048576)>"
      ]
     },
     "execution_count": 28,
     "metadata": {},
     "output_type": "execute_result"
    }
   ],
   "source": [
    "X_hv"
   ]
  },
  {
   "cell_type": "code",
   "execution_count": 29,
   "id": "cf2f7d30",
   "metadata": {
    "execution": {
     "iopub.execute_input": "2024-09-21T10:03:22.464108Z",
     "iopub.status.busy": "2024-09-21T10:03:22.463679Z",
     "iopub.status.idle": "2024-09-21T10:03:22.472420Z",
     "shell.execute_reply": "2024-09-21T10:03:22.471213Z"
    },
    "papermill": {
     "duration": 0.027022,
     "end_time": "2024-09-21T10:03:22.474920",
     "exception": false,
     "start_time": "2024-09-21T10:03:22.447898",
     "status": "completed"
    },
    "tags": []
   },
   "outputs": [
    {
     "data": {
      "text/plain": [
       "array([[0., 0., 0., ..., 0., 0., 0.]])"
      ]
     },
     "execution_count": 29,
     "metadata": {},
     "output_type": "execute_result"
    }
   ],
   "source": [
    "X_hv[0].toarray()"
   ]
  }
 ],
 "metadata": {
  "kaggle": {
   "accelerator": "none",
   "dataSources": [
    {
     "datasetId": 2378920,
     "sourceId": 4013342,
     "sourceType": "datasetVersion"
    }
   ],
   "dockerImageVersionId": 30761,
   "isGpuEnabled": false,
   "isInternetEnabled": true,
   "language": "python",
   "sourceType": "notebook"
  },
  "kernelspec": {
   "display_name": "Python 3",
   "language": "python",
   "name": "python3"
  },
  "language_info": {
   "codemirror_mode": {
    "name": "ipython",
    "version": 3
   },
   "file_extension": ".py",
   "mimetype": "text/x-python",
   "name": "python",
   "nbconvert_exporter": "python",
   "pygments_lexer": "ipython3",
   "version": "3.10.14"
  },
  "papermill": {
   "default_parameters": {},
   "duration": 10567.883693,
   "end_time": "2024-09-21T10:03:25.513121",
   "environment_variables": {},
   "exception": null,
   "input_path": "__notebook__.ipynb",
   "output_path": "__notebook__.ipynb",
   "parameters": {},
   "start_time": "2024-09-21T07:07:17.629428",
   "version": "2.6.0"
  }
 },
 "nbformat": 4,
 "nbformat_minor": 5
}
